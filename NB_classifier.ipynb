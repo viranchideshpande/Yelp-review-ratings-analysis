{
 "cells": [
  {
   "cell_type": "markdown",
   "metadata": {},
   "source": [
    "# Prediction of User Ratings by Analyzing Reviews\n",
    "\n",
    "## Naive Bayes Classification"
   ]
  },
  {
   "cell_type": "code",
   "execution_count": 1,
   "metadata": {
    "collapsed": true
   },
   "outputs": [],
   "source": [
    "import pandas as pd\n",
    "import numpy as np\n",
    "import matplotlib.pyplot as plt\n",
    "import seaborn as sns\n",
    "import nltk\n",
    "from nltk.corpus import stopwords\n",
    "from imblearn.over_sampling import SMOTE\n",
    "from nltk import pos_tag\n",
    "from nltk.stem import PorterStemmer\n",
    "%matplotlib inline"
   ]
  },
  {
   "cell_type": "markdown",
   "metadata": {},
   "source": [
    "### Data import\n",
    "\n",
    "We are importing the dataset called \"fileterd_yelp1.csv\" which is a filtered version of yelp_review.csv which has 5.4 million entries. We applied the filter of having greater than 65 upvotes.\n"
   ]
  },
  {
   "cell_type": "code",
   "execution_count": 2,
   "metadata": {},
   "outputs": [
    {
     "name": "stdout",
     "output_type": "stream",
     "text": [
      "(7996, 10)\n",
      "<class 'pandas.core.frame.DataFrame'>\n",
      "RangeIndex: 7996 entries, 0 to 7995\n",
      "Data columns (total 10 columns):\n",
      "Unnamed: 0     7996 non-null int64\n",
      "review_id      7996 non-null object\n",
      "user_id        7996 non-null object\n",
      "business_id    7996 non-null object\n",
      "stars          7996 non-null int64\n",
      "date           7996 non-null object\n",
      "text           7996 non-null object\n",
      "useful         7996 non-null int64\n",
      "funny          7996 non-null int64\n",
      "cool           7996 non-null int64\n",
      "dtypes: int64(5), object(5)\n",
      "memory usage: 624.8+ KB\n",
      "None\n"
     ]
    },
    {
     "data": {
      "text/html": [
       "<div>\n",
       "<style>\n",
       "    .dataframe thead tr:only-child th {\n",
       "        text-align: right;\n",
       "    }\n",
       "\n",
       "    .dataframe thead th {\n",
       "        text-align: left;\n",
       "    }\n",
       "\n",
       "    .dataframe tbody tr th {\n",
       "        vertical-align: top;\n",
       "    }\n",
       "</style>\n",
       "<table border=\"1\" class=\"dataframe\">\n",
       "  <thead>\n",
       "    <tr style=\"text-align: right;\">\n",
       "      <th></th>\n",
       "      <th>Unnamed: 0</th>\n",
       "      <th>review_id</th>\n",
       "      <th>user_id</th>\n",
       "      <th>business_id</th>\n",
       "      <th>stars</th>\n",
       "      <th>date</th>\n",
       "      <th>text</th>\n",
       "      <th>useful</th>\n",
       "      <th>funny</th>\n",
       "      <th>cool</th>\n",
       "    </tr>\n",
       "  </thead>\n",
       "  <tbody>\n",
       "    <tr>\n",
       "      <th>0</th>\n",
       "      <td>568</td>\n",
       "      <td>0aJKuQSkxt4Gep-e2R6Zlg</td>\n",
       "      <td>dyhTHLIf6eWBvU78Y3T06A</td>\n",
       "      <td>BuJfxizrE5ZFZgOl2EHRKg</td>\n",
       "      <td>3</td>\n",
       "      <td>2008-02-19</td>\n",
       "      <td>I'm a non-traditional girlfriend, so I always ...</td>\n",
       "      <td>15</td>\n",
       "      <td>27</td>\n",
       "      <td>24</td>\n",
       "    </tr>\n",
       "    <tr>\n",
       "      <th>1</th>\n",
       "      <td>4255</td>\n",
       "      <td>und_IbRFr2Rwpizt-kfZuw</td>\n",
       "      <td>Hm0diOkWwpo9zotlJlqMUQ</td>\n",
       "      <td>upgjUq616Yz1IvAvysDLWA</td>\n",
       "      <td>5</td>\n",
       "      <td>2017-09-08</td>\n",
       "      <td>Great food!\\r\\n\\r\\nThis restaurant isn't locat...</td>\n",
       "      <td>47</td>\n",
       "      <td>25</td>\n",
       "      <td>40</td>\n",
       "    </tr>\n",
       "    <tr>\n",
       "      <th>2</th>\n",
       "      <td>4259</td>\n",
       "      <td>gDxR9hgRWhp6jtZqgozqRA</td>\n",
       "      <td>Hm0diOkWwpo9zotlJlqMUQ</td>\n",
       "      <td>3fdtp-bzoE4ZgTakkcEBzQ</td>\n",
       "      <td>5</td>\n",
       "      <td>2017-09-14</td>\n",
       "      <td>Welcome to Fabulous Las Vegas!\\r\\n\\r\\nLas Vega...</td>\n",
       "      <td>33</td>\n",
       "      <td>20</td>\n",
       "      <td>35</td>\n",
       "    </tr>\n",
       "    <tr>\n",
       "      <th>3</th>\n",
       "      <td>4260</td>\n",
       "      <td>OboK9wH0IzH1IZryGFSgRQ</td>\n",
       "      <td>Hm0diOkWwpo9zotlJlqMUQ</td>\n",
       "      <td>BEtgRzNeXGAf0uQ-HuSyfA</td>\n",
       "      <td>5</td>\n",
       "      <td>2017-11-29</td>\n",
       "      <td>Delicious Ramen!\\r\\n\\r\\nRandomly found this pl...</td>\n",
       "      <td>35</td>\n",
       "      <td>19</td>\n",
       "      <td>35</td>\n",
       "    </tr>\n",
       "    <tr>\n",
       "      <th>4</th>\n",
       "      <td>4263</td>\n",
       "      <td>rH_hl29D7FX0xBVrfa9edA</td>\n",
       "      <td>Hm0diOkWwpo9zotlJlqMUQ</td>\n",
       "      <td>q3dJQtwZQrrurNT-1bNKgQ</td>\n",
       "      <td>5</td>\n",
       "      <td>2016-03-05</td>\n",
       "      <td>Lunch at the Don's...\\r\\n\\r\\nWell, that's what...</td>\n",
       "      <td>28</td>\n",
       "      <td>18</td>\n",
       "      <td>23</td>\n",
       "    </tr>\n",
       "    <tr>\n",
       "      <th>5</th>\n",
       "      <td>4266</td>\n",
       "      <td>5guvjGIo7nQiatQg2-U_kg</td>\n",
       "      <td>Hm0diOkWwpo9zotlJlqMUQ</td>\n",
       "      <td>bvow46stEejfxnnqEKTAyQ</td>\n",
       "      <td>4</td>\n",
       "      <td>2017-11-25</td>\n",
       "      <td>Taste of Las Vegas!\\r\\n\\r\\nWe visited on Thank...</td>\n",
       "      <td>30</td>\n",
       "      <td>14</td>\n",
       "      <td>30</td>\n",
       "    </tr>\n",
       "    <tr>\n",
       "      <th>6</th>\n",
       "      <td>4267</td>\n",
       "      <td>fDtMRtHmnhm-YmYGLzxfrg</td>\n",
       "      <td>Hm0diOkWwpo9zotlJlqMUQ</td>\n",
       "      <td>X91rjC4EkH_3ZGY3ciIs8Q</td>\n",
       "      <td>4</td>\n",
       "      <td>2017-09-04</td>\n",
       "      <td>Great Place, Yummy desserts!\\r\\n\\r\\nThis was m...</td>\n",
       "      <td>32</td>\n",
       "      <td>15</td>\n",
       "      <td>32</td>\n",
       "    </tr>\n",
       "    <tr>\n",
       "      <th>7</th>\n",
       "      <td>4268</td>\n",
       "      <td>WfmVQyAgAqkxkOfz9lSgpQ</td>\n",
       "      <td>Hm0diOkWwpo9zotlJlqMUQ</td>\n",
       "      <td>uu5AtMrz_94e8kk4Gixg9Q</td>\n",
       "      <td>4</td>\n",
       "      <td>2017-12-05</td>\n",
       "      <td>mmm! halo halo :)\\r\\n\\r\\nCame to this area on ...</td>\n",
       "      <td>37</td>\n",
       "      <td>18</td>\n",
       "      <td>36</td>\n",
       "    </tr>\n",
       "    <tr>\n",
       "      <th>8</th>\n",
       "      <td>4269</td>\n",
       "      <td>F30SpbMNX4u1JonzwtRT9Q</td>\n",
       "      <td>Hm0diOkWwpo9zotlJlqMUQ</td>\n",
       "      <td>n0SSApg8pIMu9uWr7IvxcQ</td>\n",
       "      <td>4</td>\n",
       "      <td>2016-11-10</td>\n",
       "      <td>I know it's rare but...\\r\\n\\r\\nAfter being let...</td>\n",
       "      <td>26</td>\n",
       "      <td>15</td>\n",
       "      <td>26</td>\n",
       "    </tr>\n",
       "    <tr>\n",
       "      <th>9</th>\n",
       "      <td>4270</td>\n",
       "      <td>yD_zR37iwd_zqonHEhnjTg</td>\n",
       "      <td>Hm0diOkWwpo9zotlJlqMUQ</td>\n",
       "      <td>I6ICIIZfZsp_J9hHmfhWhQ</td>\n",
       "      <td>4</td>\n",
       "      <td>2017-09-09</td>\n",
       "      <td>Parking fees in casinos on the Strip\\r\\n\\r\\nLo...</td>\n",
       "      <td>49</td>\n",
       "      <td>25</td>\n",
       "      <td>43</td>\n",
       "    </tr>\n",
       "    <tr>\n",
       "      <th>10</th>\n",
       "      <td>7225</td>\n",
       "      <td>JYnxHBb3M_knFbdKu5rmZg</td>\n",
       "      <td>NwxF1Ftc-4P5Pl_SSXThQA</td>\n",
       "      <td>Iq7NqQD-sESu3vr9iEGuTA</td>\n",
       "      <td>5</td>\n",
       "      <td>2014-08-06</td>\n",
       "      <td>Amazing breakfast spot: still dreaming of the ...</td>\n",
       "      <td>26</td>\n",
       "      <td>23</td>\n",
       "      <td>24</td>\n",
       "    </tr>\n",
       "    <tr>\n",
       "      <th>11</th>\n",
       "      <td>7947</td>\n",
       "      <td>xa3U5wHYNGFIdwRTDuMXPw</td>\n",
       "      <td>TwMSmTQjxVWJSJnErBIXlg</td>\n",
       "      <td>5c6ouNegJtpmzetsDkGd7A</td>\n",
       "      <td>1</td>\n",
       "      <td>2013-01-07</td>\n",
       "      <td>Yelp, you failed me this time.\\r\\n\\r\\n-this sa...</td>\n",
       "      <td>95</td>\n",
       "      <td>0</td>\n",
       "      <td>3</td>\n",
       "    </tr>\n",
       "    <tr>\n",
       "      <th>12</th>\n",
       "      <td>10386</td>\n",
       "      <td>A8AljSQYgX4WJNWAoZY7ZQ</td>\n",
       "      <td>IS9yw8P2uAPBX6FNLLX4KA</td>\n",
       "      <td>mz9ltimeAIy2c2qf5ctljw</td>\n",
       "      <td>5</td>\n",
       "      <td>2014-01-24</td>\n",
       "      <td>All You Need Is Love.\" - John Lennon\\r\\n\\r\\nMi...</td>\n",
       "      <td>28</td>\n",
       "      <td>21</td>\n",
       "      <td>26</td>\n",
       "    </tr>\n",
       "    <tr>\n",
       "      <th>13</th>\n",
       "      <td>10390</td>\n",
       "      <td>97IZVVITgjSgNJ44vneHFg</td>\n",
       "      <td>IS9yw8P2uAPBX6FNLLX4KA</td>\n",
       "      <td>aSGCy2a57p-vdY8pHVu5Kg</td>\n",
       "      <td>5</td>\n",
       "      <td>2014-01-23</td>\n",
       "      <td>This is the busiest Walgreens I ever been to, ...</td>\n",
       "      <td>32</td>\n",
       "      <td>22</td>\n",
       "      <td>23</td>\n",
       "    </tr>\n",
       "    <tr>\n",
       "      <th>14</th>\n",
       "      <td>10394</td>\n",
       "      <td>XJhygMPY_Syhq6mbipnkmQ</td>\n",
       "      <td>IS9yw8P2uAPBX6FNLLX4KA</td>\n",
       "      <td>cYwJA2A6I12KNkm2rtXd5g</td>\n",
       "      <td>4</td>\n",
       "      <td>2014-01-21</td>\n",
       "      <td>Gordon Ramsay Burger is not your usual burger ...</td>\n",
       "      <td>26</td>\n",
       "      <td>17</td>\n",
       "      <td>24</td>\n",
       "    </tr>\n",
       "    <tr>\n",
       "      <th>15</th>\n",
       "      <td>10395</td>\n",
       "      <td>pqoH_V3Tz_gN_4MKc8wzLg</td>\n",
       "      <td>IS9yw8P2uAPBX6FNLLX4KA</td>\n",
       "      <td>NCFwm2-TDb-oBQ2medmYDg</td>\n",
       "      <td>5</td>\n",
       "      <td>2014-01-16</td>\n",
       "      <td>---------------------------  600th Reviews  --...</td>\n",
       "      <td>25</td>\n",
       "      <td>19</td>\n",
       "      <td>23</td>\n",
       "    </tr>\n",
       "    <tr>\n",
       "      <th>16</th>\n",
       "      <td>10396</td>\n",
       "      <td>Z_oxPQz_jppp8wR6LOSShA</td>\n",
       "      <td>IS9yw8P2uAPBX6FNLLX4KA</td>\n",
       "      <td>awI4hHMfa7H0Xf0-ChU5hg</td>\n",
       "      <td>4</td>\n",
       "      <td>2014-01-16</td>\n",
       "      <td>Oyster Bar is a no doubt a hidden gem in Las V...</td>\n",
       "      <td>25</td>\n",
       "      <td>20</td>\n",
       "      <td>27</td>\n",
       "    </tr>\n",
       "    <tr>\n",
       "      <th>17</th>\n",
       "      <td>10400</td>\n",
       "      <td>JlNnsvMPLK_1-X2hwzK24w</td>\n",
       "      <td>IS9yw8P2uAPBX6FNLLX4KA</td>\n",
       "      <td>RESDUcs7fIiihp38-d6_6g</td>\n",
       "      <td>4</td>\n",
       "      <td>2014-01-17</td>\n",
       "      <td>A feast worthy of Gods\"\\r\\n\\r\\nBaccarnal Buffe...</td>\n",
       "      <td>38</td>\n",
       "      <td>21</td>\n",
       "      <td>29</td>\n",
       "    </tr>\n",
       "    <tr>\n",
       "      <th>18</th>\n",
       "      <td>10403</td>\n",
       "      <td>eUWqVI5dS4dBzTXvs_v98w</td>\n",
       "      <td>IS9yw8P2uAPBX6FNLLX4KA</td>\n",
       "      <td>3T0Erqk1MKtN58764yZMfw</td>\n",
       "      <td>3</td>\n",
       "      <td>2014-01-28</td>\n",
       "      <td>It doesn't matter what my profit margin is, I ...</td>\n",
       "      <td>40</td>\n",
       "      <td>24</td>\n",
       "      <td>22</td>\n",
       "    </tr>\n",
       "    <tr>\n",
       "      <th>19</th>\n",
       "      <td>11413</td>\n",
       "      <td>djgQcf_pHyXAHzx-BNqXAg</td>\n",
       "      <td>Mdkuwout__U_XQFuh30fuw</td>\n",
       "      <td>hBROX8RGSUYXDJAF97OV_A</td>\n",
       "      <td>3</td>\n",
       "      <td>2014-01-10</td>\n",
       "      <td>Well - I had to drop this to a 3-star review a...</td>\n",
       "      <td>43</td>\n",
       "      <td>22</td>\n",
       "      <td>2</td>\n",
       "    </tr>\n",
       "    <tr>\n",
       "      <th>20</th>\n",
       "      <td>15983</td>\n",
       "      <td>cPX3OKqbv3-9ZYZTp_UKyA</td>\n",
       "      <td>bH3Uc0YNlnKubj8cT4nQ0w</td>\n",
       "      <td>H8qpFitIesth86zqR4cwYg</td>\n",
       "      <td>5</td>\n",
       "      <td>2017-01-10</td>\n",
       "      <td>Confections, cash, and casinos! Welcome to Las...</td>\n",
       "      <td>44</td>\n",
       "      <td>41</td>\n",
       "      <td>46</td>\n",
       "    </tr>\n",
       "    <tr>\n",
       "      <th>21</th>\n",
       "      <td>15984</td>\n",
       "      <td>q4VWL-ooUADqf6J0UW99fQ</td>\n",
       "      <td>bH3Uc0YNlnKubj8cT4nQ0w</td>\n",
       "      <td>fKlr9qNoV37WQJwQ826POg</td>\n",
       "      <td>4</td>\n",
       "      <td>2017-02-14</td>\n",
       "      <td>What says romance more than a medium rare file...</td>\n",
       "      <td>33</td>\n",
       "      <td>29</td>\n",
       "      <td>34</td>\n",
       "    </tr>\n",
       "    <tr>\n",
       "      <th>22</th>\n",
       "      <td>15985</td>\n",
       "      <td>Mwlrc_GIak_bBk1hJ9tLag</td>\n",
       "      <td>bH3Uc0YNlnKubj8cT4nQ0w</td>\n",
       "      <td>0NmTwqYEQiKErDv4a55obg</td>\n",
       "      <td>5</td>\n",
       "      <td>2017-10-12</td>\n",
       "      <td>Picture a classy Italian restaurant with the B...</td>\n",
       "      <td>68</td>\n",
       "      <td>49</td>\n",
       "      <td>67</td>\n",
       "    </tr>\n",
       "    <tr>\n",
       "      <th>23</th>\n",
       "      <td>15986</td>\n",
       "      <td>BnEiKZOTxXX30tWqNahRiQ</td>\n",
       "      <td>bH3Uc0YNlnKubj8cT4nQ0w</td>\n",
       "      <td>Pob7ibbNT29--69nxXEP2g</td>\n",
       "      <td>5</td>\n",
       "      <td>2016-10-12</td>\n",
       "      <td>Très chic! Sexy! Modern! Stylish! Trendy! Now ...</td>\n",
       "      <td>30</td>\n",
       "      <td>26</td>\n",
       "      <td>33</td>\n",
       "    </tr>\n",
       "    <tr>\n",
       "      <th>24</th>\n",
       "      <td>15987</td>\n",
       "      <td>c9nhGdvoDsgRDmnqKR841g</td>\n",
       "      <td>bH3Uc0YNlnKubj8cT4nQ0w</td>\n",
       "      <td>UFyzcr1y2r3y-e_tNpA9VA</td>\n",
       "      <td>4</td>\n",
       "      <td>2014-06-23</td>\n",
       "      <td>After surviving my first tornado scare in Madi...</td>\n",
       "      <td>31</td>\n",
       "      <td>29</td>\n",
       "      <td>31</td>\n",
       "    </tr>\n",
       "    <tr>\n",
       "      <th>25</th>\n",
       "      <td>15988</td>\n",
       "      <td>1LCpVw3TKDCvWRHwG93QVg</td>\n",
       "      <td>bH3Uc0YNlnKubj8cT4nQ0w</td>\n",
       "      <td>k9LOFnY_Dn0ctUU0UYBNdA</td>\n",
       "      <td>2</td>\n",
       "      <td>2017-04-18</td>\n",
       "      <td>The poke concept is hitting Arizona in waves. ...</td>\n",
       "      <td>41</td>\n",
       "      <td>30</td>\n",
       "      <td>34</td>\n",
       "    </tr>\n",
       "    <tr>\n",
       "      <th>26</th>\n",
       "      <td>15989</td>\n",
       "      <td>kzNkbhLketcOFST8HBjmXw</td>\n",
       "      <td>bH3Uc0YNlnKubj8cT4nQ0w</td>\n",
       "      <td>68jn0s0snbO5dhasLaVvDw</td>\n",
       "      <td>4</td>\n",
       "      <td>2017-06-12</td>\n",
       "      <td>Recently, I've been experiencing a case of \"ch...</td>\n",
       "      <td>59</td>\n",
       "      <td>50</td>\n",
       "      <td>65</td>\n",
       "    </tr>\n",
       "    <tr>\n",
       "      <th>27</th>\n",
       "      <td>15990</td>\n",
       "      <td>ut59qHwKw65-a53fNnqXyw</td>\n",
       "      <td>bH3Uc0YNlnKubj8cT4nQ0w</td>\n",
       "      <td>wWhq9cKLCrZHcp-ezp-hPQ</td>\n",
       "      <td>5</td>\n",
       "      <td>2016-10-10</td>\n",
       "      <td>Where would life be without music? It touches ...</td>\n",
       "      <td>54</td>\n",
       "      <td>35</td>\n",
       "      <td>51</td>\n",
       "    </tr>\n",
       "    <tr>\n",
       "      <th>28</th>\n",
       "      <td>15991</td>\n",
       "      <td>3g17zKE9sH1Cd4wt2EFn8Q</td>\n",
       "      <td>bH3Uc0YNlnKubj8cT4nQ0w</td>\n",
       "      <td>qyOALwyMLbXKSt38glZ7yg</td>\n",
       "      <td>4</td>\n",
       "      <td>2016-05-16</td>\n",
       "      <td>Tea &amp; Toast? Please don't forget the coffee be...</td>\n",
       "      <td>38</td>\n",
       "      <td>31</td>\n",
       "      <td>39</td>\n",
       "    </tr>\n",
       "    <tr>\n",
       "      <th>29</th>\n",
       "      <td>15992</td>\n",
       "      <td>QGki5QlXB_fj40IrSjGDhA</td>\n",
       "      <td>bH3Uc0YNlnKubj8cT4nQ0w</td>\n",
       "      <td>ogW-9p7lcXQYTPymXy9KXw</td>\n",
       "      <td>4</td>\n",
       "      <td>2017-04-20</td>\n",
       "      <td>I finally saw the light and met Jesús... \\r\\nt...</td>\n",
       "      <td>53</td>\n",
       "      <td>43</td>\n",
       "      <td>53</td>\n",
       "    </tr>\n",
       "    <tr>\n",
       "      <th>...</th>\n",
       "      <td>...</td>\n",
       "      <td>...</td>\n",
       "      <td>...</td>\n",
       "      <td>...</td>\n",
       "      <td>...</td>\n",
       "      <td>...</td>\n",
       "      <td>...</td>\n",
       "      <td>...</td>\n",
       "      <td>...</td>\n",
       "      <td>...</td>\n",
       "    </tr>\n",
       "    <tr>\n",
       "      <th>7966</th>\n",
       "      <td>5216216</td>\n",
       "      <td>9k71Z-4r78DWqmWULVHBTQ</td>\n",
       "      <td>CjhTdmN6qWEKC7Zo6qadow</td>\n",
       "      <td>r5PLDU-4mSbde5XekTXSCA</td>\n",
       "      <td>5</td>\n",
       "      <td>2017-03-04</td>\n",
       "      <td>Italian is not my #1 choice but my husband has...</td>\n",
       "      <td>30</td>\n",
       "      <td>17</td>\n",
       "      <td>30</td>\n",
       "    </tr>\n",
       "    <tr>\n",
       "      <th>7967</th>\n",
       "      <td>5216222</td>\n",
       "      <td>Mprl6nCEv11wUTl6Tu2v3g</td>\n",
       "      <td>CjhTdmN6qWEKC7Zo6qadow</td>\n",
       "      <td>TgjB-wlAVzol6HoDpE8KYg</td>\n",
       "      <td>5</td>\n",
       "      <td>2017-01-25</td>\n",
       "      <td>Wow! If you're looking for a unique breakfast,...</td>\n",
       "      <td>44</td>\n",
       "      <td>32</td>\n",
       "      <td>51</td>\n",
       "    </tr>\n",
       "    <tr>\n",
       "      <th>7968</th>\n",
       "      <td>5216235</td>\n",
       "      <td>R2bbcQQ8jKIKx7eNMRZuCg</td>\n",
       "      <td>CjhTdmN6qWEKC7Zo6qadow</td>\n",
       "      <td>6Z3lZEEIKv6opbyavmnGbA</td>\n",
       "      <td>4</td>\n",
       "      <td>2017-01-10</td>\n",
       "      <td>There have been many Saturday nights filled wi...</td>\n",
       "      <td>28</td>\n",
       "      <td>17</td>\n",
       "      <td>27</td>\n",
       "    </tr>\n",
       "    <tr>\n",
       "      <th>7969</th>\n",
       "      <td>5220840</td>\n",
       "      <td>rUcxsJZRYjfVnYA5nLQQNg</td>\n",
       "      <td>XK4KkZI1VcFKBLiWLaDOtw</td>\n",
       "      <td>OQUJBH55AH8rm-eR7X-CrQ</td>\n",
       "      <td>5</td>\n",
       "      <td>2016-09-21</td>\n",
       "      <td>A very cute Gelato store in the heart of Las V...</td>\n",
       "      <td>50</td>\n",
       "      <td>30</td>\n",
       "      <td>55</td>\n",
       "    </tr>\n",
       "    <tr>\n",
       "      <th>7970</th>\n",
       "      <td>5224895</td>\n",
       "      <td>GrN6hnYRuTe0E1JSqmWWUA</td>\n",
       "      <td>Ts01djmzn7wCQiFyclwhmw</td>\n",
       "      <td>DN0b4Un8--Uf6SEWLeh0UA</td>\n",
       "      <td>1</td>\n",
       "      <td>2017-08-20</td>\n",
       "      <td>Worst place i have ever been! I waited over an...</td>\n",
       "      <td>113</td>\n",
       "      <td>66</td>\n",
       "      <td>27</td>\n",
       "    </tr>\n",
       "    <tr>\n",
       "      <th>7971</th>\n",
       "      <td>5226447</td>\n",
       "      <td>lNYKNxuVM8D5HD8QFWdf-w</td>\n",
       "      <td>cHhFU2nGkfFJ1WeB5GtJxw</td>\n",
       "      <td>_fTmv7AbmXPD6-ae8EJ2zw</td>\n",
       "      <td>5</td>\n",
       "      <td>2012-10-25</td>\n",
       "      <td>I am so thrilled to be the first to rate this ...</td>\n",
       "      <td>36</td>\n",
       "      <td>0</td>\n",
       "      <td>30</td>\n",
       "    </tr>\n",
       "    <tr>\n",
       "      <th>7972</th>\n",
       "      <td>5229407</td>\n",
       "      <td>pAuQNbz-EiG7uM80ao26Bw</td>\n",
       "      <td>nC4x02Sv0YYT9CV0UcMSxw</td>\n",
       "      <td>rioQ_p2pILNbJ4Xp5jW6-Q</td>\n",
       "      <td>4</td>\n",
       "      <td>2016-10-18</td>\n",
       "      <td>Cool place in Downtown Las Vegas with lots of ...</td>\n",
       "      <td>28</td>\n",
       "      <td>17</td>\n",
       "      <td>31</td>\n",
       "    </tr>\n",
       "    <tr>\n",
       "      <th>7973</th>\n",
       "      <td>5229408</td>\n",
       "      <td>HJFUqKWFr2HXqcAh715f2g</td>\n",
       "      <td>nC4x02Sv0YYT9CV0UcMSxw</td>\n",
       "      <td>faPVqws-x-5k2CQKDNtHxw</td>\n",
       "      <td>4</td>\n",
       "      <td>2017-07-22</td>\n",
       "      <td>Came here on a Thursday evening and sat in the...</td>\n",
       "      <td>35</td>\n",
       "      <td>25</td>\n",
       "      <td>29</td>\n",
       "    </tr>\n",
       "    <tr>\n",
       "      <th>7974</th>\n",
       "      <td>5229409</td>\n",
       "      <td>4XtNx3zsRDy-u0AcpGCQZA</td>\n",
       "      <td>nC4x02Sv0YYT9CV0UcMSxw</td>\n",
       "      <td>aHFkZDm8g27zpzydNE8OMg</td>\n",
       "      <td>4</td>\n",
       "      <td>2017-01-02</td>\n",
       "      <td>Thanks Yelp for this great find. And as a bonu...</td>\n",
       "      <td>30</td>\n",
       "      <td>19</td>\n",
       "      <td>27</td>\n",
       "    </tr>\n",
       "    <tr>\n",
       "      <th>7975</th>\n",
       "      <td>5229411</td>\n",
       "      <td>vyvNG3MbWEnapWIKPul4Sg</td>\n",
       "      <td>nC4x02Sv0YYT9CV0UcMSxw</td>\n",
       "      <td>n_o2DAmDBAZ-RjVDSY-5uQ</td>\n",
       "      <td>5</td>\n",
       "      <td>2016-09-14</td>\n",
       "      <td>Came here for my Gf birthday dinner and I'm so...</td>\n",
       "      <td>30</td>\n",
       "      <td>18</td>\n",
       "      <td>28</td>\n",
       "    </tr>\n",
       "    <tr>\n",
       "      <th>7976</th>\n",
       "      <td>5229412</td>\n",
       "      <td>LsRLM0rDut-25yjpDpcFdw</td>\n",
       "      <td>nC4x02Sv0YYT9CV0UcMSxw</td>\n",
       "      <td>y7clAfbS26JUp_EtEGpWHQ</td>\n",
       "      <td>3</td>\n",
       "      <td>2016-08-23</td>\n",
       "      <td>Came here for a comedy show. This place is lik...</td>\n",
       "      <td>28</td>\n",
       "      <td>18</td>\n",
       "      <td>24</td>\n",
       "    </tr>\n",
       "    <tr>\n",
       "      <th>7977</th>\n",
       "      <td>5229413</td>\n",
       "      <td>CfcwYrR9KHU5Xg7L7vUhww</td>\n",
       "      <td>nC4x02Sv0YYT9CV0UcMSxw</td>\n",
       "      <td>DkYS3arLOhA8si5uUEmHOw</td>\n",
       "      <td>5</td>\n",
       "      <td>2016-09-02</td>\n",
       "      <td>Best club I've had in awhile. This place is lo...</td>\n",
       "      <td>27</td>\n",
       "      <td>19</td>\n",
       "      <td>27</td>\n",
       "    </tr>\n",
       "    <tr>\n",
       "      <th>7978</th>\n",
       "      <td>5229415</td>\n",
       "      <td>Tp5jk3-wqh149PF9xJi-Ew</td>\n",
       "      <td>nC4x02Sv0YYT9CV0UcMSxw</td>\n",
       "      <td>DPZrdAzdnTr7HiiDJyHybw</td>\n",
       "      <td>5</td>\n",
       "      <td>2017-07-14</td>\n",
       "      <td>Been having this place bookmarked for a while ...</td>\n",
       "      <td>27</td>\n",
       "      <td>21</td>\n",
       "      <td>30</td>\n",
       "    </tr>\n",
       "    <tr>\n",
       "      <th>7979</th>\n",
       "      <td>5229416</td>\n",
       "      <td>ll1WmXT1tPIVTUbNelplSA</td>\n",
       "      <td>nC4x02Sv0YYT9CV0UcMSxw</td>\n",
       "      <td>ZrS5rhJ4OvXQG_38wPEWlA</td>\n",
       "      <td>5</td>\n",
       "      <td>2016-10-05</td>\n",
       "      <td>I give this place five stars just on their top...</td>\n",
       "      <td>31</td>\n",
       "      <td>21</td>\n",
       "      <td>31</td>\n",
       "    </tr>\n",
       "    <tr>\n",
       "      <th>7980</th>\n",
       "      <td>5229417</td>\n",
       "      <td>-DrkXGNmcAY4jGcCIPbiJw</td>\n",
       "      <td>nC4x02Sv0YYT9CV0UcMSxw</td>\n",
       "      <td>I4Nr-MVc26qWr08-S3Q1ow</td>\n",
       "      <td>5</td>\n",
       "      <td>2017-01-11</td>\n",
       "      <td>If you want a hefty sandwich with lots of meat...</td>\n",
       "      <td>30</td>\n",
       "      <td>22</td>\n",
       "      <td>27</td>\n",
       "    </tr>\n",
       "    <tr>\n",
       "      <th>7981</th>\n",
       "      <td>5229418</td>\n",
       "      <td>wWLkXJFaKwCpdRyRp7hy8A</td>\n",
       "      <td>nC4x02Sv0YYT9CV0UcMSxw</td>\n",
       "      <td>X5Q_PKC-AeMrO4uSpnmgGg</td>\n",
       "      <td>4</td>\n",
       "      <td>2016-08-24</td>\n",
       "      <td>Happy hour is so cool here I always make my wa...</td>\n",
       "      <td>34</td>\n",
       "      <td>20</td>\n",
       "      <td>31</td>\n",
       "    </tr>\n",
       "    <tr>\n",
       "      <th>7982</th>\n",
       "      <td>5229420</td>\n",
       "      <td>Tt-Nq8iV1TQDMlXtPzsZQg</td>\n",
       "      <td>nC4x02Sv0YYT9CV0UcMSxw</td>\n",
       "      <td>XD5yy714NkCMpzO4tnQF4A</td>\n",
       "      <td>5</td>\n",
       "      <td>2017-11-10</td>\n",
       "      <td>Came here a few month back and I'm just gettin...</td>\n",
       "      <td>31</td>\n",
       "      <td>15</td>\n",
       "      <td>26</td>\n",
       "    </tr>\n",
       "    <tr>\n",
       "      <th>7983</th>\n",
       "      <td>5229423</td>\n",
       "      <td>gmSH17NN7_W6SbgorMejuQ</td>\n",
       "      <td>nC4x02Sv0YYT9CV0UcMSxw</td>\n",
       "      <td>VjvE-GKV9PeiWlXIUdv4FQ</td>\n",
       "      <td>3</td>\n",
       "      <td>2017-01-05</td>\n",
       "      <td>Don't come here for the Claw Machines you got ...</td>\n",
       "      <td>30</td>\n",
       "      <td>18</td>\n",
       "      <td>30</td>\n",
       "    </tr>\n",
       "    <tr>\n",
       "      <th>7984</th>\n",
       "      <td>5231401</td>\n",
       "      <td>L7A8YRY-v1P-xiCZJFmb1w</td>\n",
       "      <td>BTxxGYdw8CNV7UZGc9YU1Q</td>\n",
       "      <td>adnAevmPxjh9MtS6e4aSbw</td>\n",
       "      <td>5</td>\n",
       "      <td>2016-01-29</td>\n",
       "      <td>The donuts and pastries are delicious and so i...</td>\n",
       "      <td>30</td>\n",
       "      <td>22</td>\n",
       "      <td>34</td>\n",
       "    </tr>\n",
       "    <tr>\n",
       "      <th>7985</th>\n",
       "      <td>5232681</td>\n",
       "      <td>5vNJjc5TGUGi2OEZUfooXQ</td>\n",
       "      <td>4ZfcCa4m5RWvO4EFzfYm1A</td>\n",
       "      <td>XnJeadLrlj9AZB8qSdIR2Q</td>\n",
       "      <td>3</td>\n",
       "      <td>2011-01-03</td>\n",
       "      <td>Michelin Stars #20, 21, and 22\\r\\n\\r\\nLet me s...</td>\n",
       "      <td>28</td>\n",
       "      <td>28</td>\n",
       "      <td>17</td>\n",
       "    </tr>\n",
       "    <tr>\n",
       "      <th>7986</th>\n",
       "      <td>5232725</td>\n",
       "      <td>vXISlMMAKa4lfgecdNMR5Q</td>\n",
       "      <td>lSEDPfNsYpWbi6sF-gic2g</td>\n",
       "      <td>3xmfT7l3xNH5LK1dLzfvGw</td>\n",
       "      <td>4</td>\n",
       "      <td>2015-08-25</td>\n",
       "      <td>Plenty of parking! Zip lining! Street performe...</td>\n",
       "      <td>29</td>\n",
       "      <td>25</td>\n",
       "      <td>28</td>\n",
       "    </tr>\n",
       "    <tr>\n",
       "      <th>7987</th>\n",
       "      <td>5232726</td>\n",
       "      <td>BAbcaopfsp27qL0tI7oZPQ</td>\n",
       "      <td>lSEDPfNsYpWbi6sF-gic2g</td>\n",
       "      <td>ti1bb30WwnkDLuVvpTM6fQ</td>\n",
       "      <td>5</td>\n",
       "      <td>2015-08-29</td>\n",
       "      <td>My sweet mother wanted Mariachi! My sweet moth...</td>\n",
       "      <td>30</td>\n",
       "      <td>26</td>\n",
       "      <td>29</td>\n",
       "    </tr>\n",
       "    <tr>\n",
       "      <th>7988</th>\n",
       "      <td>5232727</td>\n",
       "      <td>SBqKaCFJBXX1cw6tqlRQFA</td>\n",
       "      <td>lSEDPfNsYpWbi6sF-gic2g</td>\n",
       "      <td>BIBWGO_r_1znnlmLbp4Nxg</td>\n",
       "      <td>4</td>\n",
       "      <td>2015-08-26</td>\n",
       "      <td>Honestly when my sister said \"I made reservati...</td>\n",
       "      <td>38</td>\n",
       "      <td>23</td>\n",
       "      <td>26</td>\n",
       "    </tr>\n",
       "    <tr>\n",
       "      <th>7989</th>\n",
       "      <td>5236587</td>\n",
       "      <td>y0JmNsy2FriLhgLaAVrXnA</td>\n",
       "      <td>woIFHDytuex2UPOsib2pwA</td>\n",
       "      <td>DN0b4Un8--Uf6SEWLeh0UA</td>\n",
       "      <td>1</td>\n",
       "      <td>2013-07-25</td>\n",
       "      <td>All our food was either under cooked or way ov...</td>\n",
       "      <td>152</td>\n",
       "      <td>16</td>\n",
       "      <td>2</td>\n",
       "    </tr>\n",
       "    <tr>\n",
       "      <th>7990</th>\n",
       "      <td>5237263</td>\n",
       "      <td>dIKuXABJ926bF-0ErUAYXw</td>\n",
       "      <td>eLOivNOnurrI0KS11a-nHg</td>\n",
       "      <td>nmdjOq-Nwtj8sp74YF348A</td>\n",
       "      <td>2</td>\n",
       "      <td>2012-01-12</td>\n",
       "      <td>In my life, I have never wasted money in such ...</td>\n",
       "      <td>111</td>\n",
       "      <td>12</td>\n",
       "      <td>1</td>\n",
       "    </tr>\n",
       "    <tr>\n",
       "      <th>7991</th>\n",
       "      <td>5240639</td>\n",
       "      <td>QH6UThw5f_OrliHe1wYQZw</td>\n",
       "      <td>yPVUOv56zrYlpP7wJpJJWg</td>\n",
       "      <td>DN0b4Un8--Uf6SEWLeh0UA</td>\n",
       "      <td>4</td>\n",
       "      <td>2015-07-04</td>\n",
       "      <td>While in town, we could help but pop into this...</td>\n",
       "      <td>70</td>\n",
       "      <td>462</td>\n",
       "      <td>29</td>\n",
       "    </tr>\n",
       "    <tr>\n",
       "      <th>7992</th>\n",
       "      <td>5250523</td>\n",
       "      <td>U04kL1b2NsytjIoD2ULGNQ</td>\n",
       "      <td>5RMrBxjIIvdTBl5prcAzvQ</td>\n",
       "      <td>l8WdId8Ya_wtV576khTfsA</td>\n",
       "      <td>3</td>\n",
       "      <td>2012-05-24</td>\n",
       "      <td>These guys are horrible communicators!  I have...</td>\n",
       "      <td>67</td>\n",
       "      <td>9</td>\n",
       "      <td>2</td>\n",
       "    </tr>\n",
       "    <tr>\n",
       "      <th>7993</th>\n",
       "      <td>5250745</td>\n",
       "      <td>TX_W_aMoI_-P__OZ1UFxug</td>\n",
       "      <td>CImvmiPIgz7rTU34pYEgLQ</td>\n",
       "      <td>KelbHP5QeiQB4Xkn6sCa7w</td>\n",
       "      <td>5</td>\n",
       "      <td>2011-11-16</td>\n",
       "      <td>This is our first experience with natural dry ...</td>\n",
       "      <td>36</td>\n",
       "      <td>1</td>\n",
       "      <td>33</td>\n",
       "    </tr>\n",
       "    <tr>\n",
       "      <th>7994</th>\n",
       "      <td>5252384</td>\n",
       "      <td>A8mLBytNM2zmjHgSpsuZDA</td>\n",
       "      <td>qiTy11I-yp6foxIghRfGOA</td>\n",
       "      <td>DN0b4Un8--Uf6SEWLeh0UA</td>\n",
       "      <td>1</td>\n",
       "      <td>2010-08-01</td>\n",
       "      <td>In retrospect, I should have known better than...</td>\n",
       "      <td>3364</td>\n",
       "      <td>1481</td>\n",
       "      <td>1105</td>\n",
       "    </tr>\n",
       "    <tr>\n",
       "      <th>7995</th>\n",
       "      <td>5254570</td>\n",
       "      <td>0c37BBClPvJHct0Q_d_mmg</td>\n",
       "      <td>ZaPRMGy1ix2m9-nA_3cATw</td>\n",
       "      <td>9htEd0w-c4aBPYvI8_vkjg</td>\n",
       "      <td>1</td>\n",
       "      <td>2014-12-27</td>\n",
       "      <td>My wife had surgery there 2 months ago and it ...</td>\n",
       "      <td>199</td>\n",
       "      <td>0</td>\n",
       "      <td>0</td>\n",
       "    </tr>\n",
       "  </tbody>\n",
       "</table>\n",
       "<p>7996 rows × 10 columns</p>\n",
       "</div>"
      ],
      "text/plain": [
       "      Unnamed: 0               review_id                 user_id  \\\n",
       "0            568  0aJKuQSkxt4Gep-e2R6Zlg  dyhTHLIf6eWBvU78Y3T06A   \n",
       "1           4255  und_IbRFr2Rwpizt-kfZuw  Hm0diOkWwpo9zotlJlqMUQ   \n",
       "2           4259  gDxR9hgRWhp6jtZqgozqRA  Hm0diOkWwpo9zotlJlqMUQ   \n",
       "3           4260  OboK9wH0IzH1IZryGFSgRQ  Hm0diOkWwpo9zotlJlqMUQ   \n",
       "4           4263  rH_hl29D7FX0xBVrfa9edA  Hm0diOkWwpo9zotlJlqMUQ   \n",
       "5           4266  5guvjGIo7nQiatQg2-U_kg  Hm0diOkWwpo9zotlJlqMUQ   \n",
       "6           4267  fDtMRtHmnhm-YmYGLzxfrg  Hm0diOkWwpo9zotlJlqMUQ   \n",
       "7           4268  WfmVQyAgAqkxkOfz9lSgpQ  Hm0diOkWwpo9zotlJlqMUQ   \n",
       "8           4269  F30SpbMNX4u1JonzwtRT9Q  Hm0diOkWwpo9zotlJlqMUQ   \n",
       "9           4270  yD_zR37iwd_zqonHEhnjTg  Hm0diOkWwpo9zotlJlqMUQ   \n",
       "10          7225  JYnxHBb3M_knFbdKu5rmZg  NwxF1Ftc-4P5Pl_SSXThQA   \n",
       "11          7947  xa3U5wHYNGFIdwRTDuMXPw  TwMSmTQjxVWJSJnErBIXlg   \n",
       "12         10386  A8AljSQYgX4WJNWAoZY7ZQ  IS9yw8P2uAPBX6FNLLX4KA   \n",
       "13         10390  97IZVVITgjSgNJ44vneHFg  IS9yw8P2uAPBX6FNLLX4KA   \n",
       "14         10394  XJhygMPY_Syhq6mbipnkmQ  IS9yw8P2uAPBX6FNLLX4KA   \n",
       "15         10395  pqoH_V3Tz_gN_4MKc8wzLg  IS9yw8P2uAPBX6FNLLX4KA   \n",
       "16         10396  Z_oxPQz_jppp8wR6LOSShA  IS9yw8P2uAPBX6FNLLX4KA   \n",
       "17         10400  JlNnsvMPLK_1-X2hwzK24w  IS9yw8P2uAPBX6FNLLX4KA   \n",
       "18         10403  eUWqVI5dS4dBzTXvs_v98w  IS9yw8P2uAPBX6FNLLX4KA   \n",
       "19         11413  djgQcf_pHyXAHzx-BNqXAg  Mdkuwout__U_XQFuh30fuw   \n",
       "20         15983  cPX3OKqbv3-9ZYZTp_UKyA  bH3Uc0YNlnKubj8cT4nQ0w   \n",
       "21         15984  q4VWL-ooUADqf6J0UW99fQ  bH3Uc0YNlnKubj8cT4nQ0w   \n",
       "22         15985  Mwlrc_GIak_bBk1hJ9tLag  bH3Uc0YNlnKubj8cT4nQ0w   \n",
       "23         15986  BnEiKZOTxXX30tWqNahRiQ  bH3Uc0YNlnKubj8cT4nQ0w   \n",
       "24         15987  c9nhGdvoDsgRDmnqKR841g  bH3Uc0YNlnKubj8cT4nQ0w   \n",
       "25         15988  1LCpVw3TKDCvWRHwG93QVg  bH3Uc0YNlnKubj8cT4nQ0w   \n",
       "26         15989  kzNkbhLketcOFST8HBjmXw  bH3Uc0YNlnKubj8cT4nQ0w   \n",
       "27         15990  ut59qHwKw65-a53fNnqXyw  bH3Uc0YNlnKubj8cT4nQ0w   \n",
       "28         15991  3g17zKE9sH1Cd4wt2EFn8Q  bH3Uc0YNlnKubj8cT4nQ0w   \n",
       "29         15992  QGki5QlXB_fj40IrSjGDhA  bH3Uc0YNlnKubj8cT4nQ0w   \n",
       "...          ...                     ...                     ...   \n",
       "7966     5216216  9k71Z-4r78DWqmWULVHBTQ  CjhTdmN6qWEKC7Zo6qadow   \n",
       "7967     5216222  Mprl6nCEv11wUTl6Tu2v3g  CjhTdmN6qWEKC7Zo6qadow   \n",
       "7968     5216235  R2bbcQQ8jKIKx7eNMRZuCg  CjhTdmN6qWEKC7Zo6qadow   \n",
       "7969     5220840  rUcxsJZRYjfVnYA5nLQQNg  XK4KkZI1VcFKBLiWLaDOtw   \n",
       "7970     5224895  GrN6hnYRuTe0E1JSqmWWUA  Ts01djmzn7wCQiFyclwhmw   \n",
       "7971     5226447  lNYKNxuVM8D5HD8QFWdf-w  cHhFU2nGkfFJ1WeB5GtJxw   \n",
       "7972     5229407  pAuQNbz-EiG7uM80ao26Bw  nC4x02Sv0YYT9CV0UcMSxw   \n",
       "7973     5229408  HJFUqKWFr2HXqcAh715f2g  nC4x02Sv0YYT9CV0UcMSxw   \n",
       "7974     5229409  4XtNx3zsRDy-u0AcpGCQZA  nC4x02Sv0YYT9CV0UcMSxw   \n",
       "7975     5229411  vyvNG3MbWEnapWIKPul4Sg  nC4x02Sv0YYT9CV0UcMSxw   \n",
       "7976     5229412  LsRLM0rDut-25yjpDpcFdw  nC4x02Sv0YYT9CV0UcMSxw   \n",
       "7977     5229413  CfcwYrR9KHU5Xg7L7vUhww  nC4x02Sv0YYT9CV0UcMSxw   \n",
       "7978     5229415  Tp5jk3-wqh149PF9xJi-Ew  nC4x02Sv0YYT9CV0UcMSxw   \n",
       "7979     5229416  ll1WmXT1tPIVTUbNelplSA  nC4x02Sv0YYT9CV0UcMSxw   \n",
       "7980     5229417  -DrkXGNmcAY4jGcCIPbiJw  nC4x02Sv0YYT9CV0UcMSxw   \n",
       "7981     5229418  wWLkXJFaKwCpdRyRp7hy8A  nC4x02Sv0YYT9CV0UcMSxw   \n",
       "7982     5229420  Tt-Nq8iV1TQDMlXtPzsZQg  nC4x02Sv0YYT9CV0UcMSxw   \n",
       "7983     5229423  gmSH17NN7_W6SbgorMejuQ  nC4x02Sv0YYT9CV0UcMSxw   \n",
       "7984     5231401  L7A8YRY-v1P-xiCZJFmb1w  BTxxGYdw8CNV7UZGc9YU1Q   \n",
       "7985     5232681  5vNJjc5TGUGi2OEZUfooXQ  4ZfcCa4m5RWvO4EFzfYm1A   \n",
       "7986     5232725  vXISlMMAKa4lfgecdNMR5Q  lSEDPfNsYpWbi6sF-gic2g   \n",
       "7987     5232726  BAbcaopfsp27qL0tI7oZPQ  lSEDPfNsYpWbi6sF-gic2g   \n",
       "7988     5232727  SBqKaCFJBXX1cw6tqlRQFA  lSEDPfNsYpWbi6sF-gic2g   \n",
       "7989     5236587  y0JmNsy2FriLhgLaAVrXnA  woIFHDytuex2UPOsib2pwA   \n",
       "7990     5237263  dIKuXABJ926bF-0ErUAYXw  eLOivNOnurrI0KS11a-nHg   \n",
       "7991     5240639  QH6UThw5f_OrliHe1wYQZw  yPVUOv56zrYlpP7wJpJJWg   \n",
       "7992     5250523  U04kL1b2NsytjIoD2ULGNQ  5RMrBxjIIvdTBl5prcAzvQ   \n",
       "7993     5250745  TX_W_aMoI_-P__OZ1UFxug  CImvmiPIgz7rTU34pYEgLQ   \n",
       "7994     5252384  A8mLBytNM2zmjHgSpsuZDA  qiTy11I-yp6foxIghRfGOA   \n",
       "7995     5254570  0c37BBClPvJHct0Q_d_mmg  ZaPRMGy1ix2m9-nA_3cATw   \n",
       "\n",
       "                 business_id  stars        date  \\\n",
       "0     BuJfxizrE5ZFZgOl2EHRKg      3  2008-02-19   \n",
       "1     upgjUq616Yz1IvAvysDLWA      5  2017-09-08   \n",
       "2     3fdtp-bzoE4ZgTakkcEBzQ      5  2017-09-14   \n",
       "3     BEtgRzNeXGAf0uQ-HuSyfA      5  2017-11-29   \n",
       "4     q3dJQtwZQrrurNT-1bNKgQ      5  2016-03-05   \n",
       "5     bvow46stEejfxnnqEKTAyQ      4  2017-11-25   \n",
       "6     X91rjC4EkH_3ZGY3ciIs8Q      4  2017-09-04   \n",
       "7     uu5AtMrz_94e8kk4Gixg9Q      4  2017-12-05   \n",
       "8     n0SSApg8pIMu9uWr7IvxcQ      4  2016-11-10   \n",
       "9     I6ICIIZfZsp_J9hHmfhWhQ      4  2017-09-09   \n",
       "10    Iq7NqQD-sESu3vr9iEGuTA      5  2014-08-06   \n",
       "11    5c6ouNegJtpmzetsDkGd7A      1  2013-01-07   \n",
       "12    mz9ltimeAIy2c2qf5ctljw      5  2014-01-24   \n",
       "13    aSGCy2a57p-vdY8pHVu5Kg      5  2014-01-23   \n",
       "14    cYwJA2A6I12KNkm2rtXd5g      4  2014-01-21   \n",
       "15    NCFwm2-TDb-oBQ2medmYDg      5  2014-01-16   \n",
       "16    awI4hHMfa7H0Xf0-ChU5hg      4  2014-01-16   \n",
       "17    RESDUcs7fIiihp38-d6_6g      4  2014-01-17   \n",
       "18    3T0Erqk1MKtN58764yZMfw      3  2014-01-28   \n",
       "19    hBROX8RGSUYXDJAF97OV_A      3  2014-01-10   \n",
       "20    H8qpFitIesth86zqR4cwYg      5  2017-01-10   \n",
       "21    fKlr9qNoV37WQJwQ826POg      4  2017-02-14   \n",
       "22    0NmTwqYEQiKErDv4a55obg      5  2017-10-12   \n",
       "23    Pob7ibbNT29--69nxXEP2g      5  2016-10-12   \n",
       "24    UFyzcr1y2r3y-e_tNpA9VA      4  2014-06-23   \n",
       "25    k9LOFnY_Dn0ctUU0UYBNdA      2  2017-04-18   \n",
       "26    68jn0s0snbO5dhasLaVvDw      4  2017-06-12   \n",
       "27    wWhq9cKLCrZHcp-ezp-hPQ      5  2016-10-10   \n",
       "28    qyOALwyMLbXKSt38glZ7yg      4  2016-05-16   \n",
       "29    ogW-9p7lcXQYTPymXy9KXw      4  2017-04-20   \n",
       "...                      ...    ...         ...   \n",
       "7966  r5PLDU-4mSbde5XekTXSCA      5  2017-03-04   \n",
       "7967  TgjB-wlAVzol6HoDpE8KYg      5  2017-01-25   \n",
       "7968  6Z3lZEEIKv6opbyavmnGbA      4  2017-01-10   \n",
       "7969  OQUJBH55AH8rm-eR7X-CrQ      5  2016-09-21   \n",
       "7970  DN0b4Un8--Uf6SEWLeh0UA      1  2017-08-20   \n",
       "7971  _fTmv7AbmXPD6-ae8EJ2zw      5  2012-10-25   \n",
       "7972  rioQ_p2pILNbJ4Xp5jW6-Q      4  2016-10-18   \n",
       "7973  faPVqws-x-5k2CQKDNtHxw      4  2017-07-22   \n",
       "7974  aHFkZDm8g27zpzydNE8OMg      4  2017-01-02   \n",
       "7975  n_o2DAmDBAZ-RjVDSY-5uQ      5  2016-09-14   \n",
       "7976  y7clAfbS26JUp_EtEGpWHQ      3  2016-08-23   \n",
       "7977  DkYS3arLOhA8si5uUEmHOw      5  2016-09-02   \n",
       "7978  DPZrdAzdnTr7HiiDJyHybw      5  2017-07-14   \n",
       "7979  ZrS5rhJ4OvXQG_38wPEWlA      5  2016-10-05   \n",
       "7980  I4Nr-MVc26qWr08-S3Q1ow      5  2017-01-11   \n",
       "7981  X5Q_PKC-AeMrO4uSpnmgGg      4  2016-08-24   \n",
       "7982  XD5yy714NkCMpzO4tnQF4A      5  2017-11-10   \n",
       "7983  VjvE-GKV9PeiWlXIUdv4FQ      3  2017-01-05   \n",
       "7984  adnAevmPxjh9MtS6e4aSbw      5  2016-01-29   \n",
       "7985  XnJeadLrlj9AZB8qSdIR2Q      3  2011-01-03   \n",
       "7986  3xmfT7l3xNH5LK1dLzfvGw      4  2015-08-25   \n",
       "7987  ti1bb30WwnkDLuVvpTM6fQ      5  2015-08-29   \n",
       "7988  BIBWGO_r_1znnlmLbp4Nxg      4  2015-08-26   \n",
       "7989  DN0b4Un8--Uf6SEWLeh0UA      1  2013-07-25   \n",
       "7990  nmdjOq-Nwtj8sp74YF348A      2  2012-01-12   \n",
       "7991  DN0b4Un8--Uf6SEWLeh0UA      4  2015-07-04   \n",
       "7992  l8WdId8Ya_wtV576khTfsA      3  2012-05-24   \n",
       "7993  KelbHP5QeiQB4Xkn6sCa7w      5  2011-11-16   \n",
       "7994  DN0b4Un8--Uf6SEWLeh0UA      1  2010-08-01   \n",
       "7995  9htEd0w-c4aBPYvI8_vkjg      1  2014-12-27   \n",
       "\n",
       "                                                   text  useful  funny  cool  \n",
       "0     I'm a non-traditional girlfriend, so I always ...      15     27    24  \n",
       "1     Great food!\\r\\n\\r\\nThis restaurant isn't locat...      47     25    40  \n",
       "2     Welcome to Fabulous Las Vegas!\\r\\n\\r\\nLas Vega...      33     20    35  \n",
       "3     Delicious Ramen!\\r\\n\\r\\nRandomly found this pl...      35     19    35  \n",
       "4     Lunch at the Don's...\\r\\n\\r\\nWell, that's what...      28     18    23  \n",
       "5     Taste of Las Vegas!\\r\\n\\r\\nWe visited on Thank...      30     14    30  \n",
       "6     Great Place, Yummy desserts!\\r\\n\\r\\nThis was m...      32     15    32  \n",
       "7     mmm! halo halo :)\\r\\n\\r\\nCame to this area on ...      37     18    36  \n",
       "8     I know it's rare but...\\r\\n\\r\\nAfter being let...      26     15    26  \n",
       "9     Parking fees in casinos on the Strip\\r\\n\\r\\nLo...      49     25    43  \n",
       "10    Amazing breakfast spot: still dreaming of the ...      26     23    24  \n",
       "11    Yelp, you failed me this time.\\r\\n\\r\\n-this sa...      95      0     3  \n",
       "12    All You Need Is Love.\" - John Lennon\\r\\n\\r\\nMi...      28     21    26  \n",
       "13    This is the busiest Walgreens I ever been to, ...      32     22    23  \n",
       "14    Gordon Ramsay Burger is not your usual burger ...      26     17    24  \n",
       "15    ---------------------------  600th Reviews  --...      25     19    23  \n",
       "16    Oyster Bar is a no doubt a hidden gem in Las V...      25     20    27  \n",
       "17    A feast worthy of Gods\"\\r\\n\\r\\nBaccarnal Buffe...      38     21    29  \n",
       "18    It doesn't matter what my profit margin is, I ...      40     24    22  \n",
       "19    Well - I had to drop this to a 3-star review a...      43     22     2  \n",
       "20    Confections, cash, and casinos! Welcome to Las...      44     41    46  \n",
       "21    What says romance more than a medium rare file...      33     29    34  \n",
       "22    Picture a classy Italian restaurant with the B...      68     49    67  \n",
       "23    Très chic! Sexy! Modern! Stylish! Trendy! Now ...      30     26    33  \n",
       "24    After surviving my first tornado scare in Madi...      31     29    31  \n",
       "25    The poke concept is hitting Arizona in waves. ...      41     30    34  \n",
       "26    Recently, I've been experiencing a case of \"ch...      59     50    65  \n",
       "27    Where would life be without music? It touches ...      54     35    51  \n",
       "28    Tea & Toast? Please don't forget the coffee be...      38     31    39  \n",
       "29    I finally saw the light and met Jesús... \\r\\nt...      53     43    53  \n",
       "...                                                 ...     ...    ...   ...  \n",
       "7966  Italian is not my #1 choice but my husband has...      30     17    30  \n",
       "7967  Wow! If you're looking for a unique breakfast,...      44     32    51  \n",
       "7968  There have been many Saturday nights filled wi...      28     17    27  \n",
       "7969  A very cute Gelato store in the heart of Las V...      50     30    55  \n",
       "7970  Worst place i have ever been! I waited over an...     113     66    27  \n",
       "7971  I am so thrilled to be the first to rate this ...      36      0    30  \n",
       "7972  Cool place in Downtown Las Vegas with lots of ...      28     17    31  \n",
       "7973  Came here on a Thursday evening and sat in the...      35     25    29  \n",
       "7974  Thanks Yelp for this great find. And as a bonu...      30     19    27  \n",
       "7975  Came here for my Gf birthday dinner and I'm so...      30     18    28  \n",
       "7976  Came here for a comedy show. This place is lik...      28     18    24  \n",
       "7977  Best club I've had in awhile. This place is lo...      27     19    27  \n",
       "7978  Been having this place bookmarked for a while ...      27     21    30  \n",
       "7979  I give this place five stars just on their top...      31     21    31  \n",
       "7980  If you want a hefty sandwich with lots of meat...      30     22    27  \n",
       "7981  Happy hour is so cool here I always make my wa...      34     20    31  \n",
       "7982  Came here a few month back and I'm just gettin...      31     15    26  \n",
       "7983  Don't come here for the Claw Machines you got ...      30     18    30  \n",
       "7984  The donuts and pastries are delicious and so i...      30     22    34  \n",
       "7985  Michelin Stars #20, 21, and 22\\r\\n\\r\\nLet me s...      28     28    17  \n",
       "7986  Plenty of parking! Zip lining! Street performe...      29     25    28  \n",
       "7987  My sweet mother wanted Mariachi! My sweet moth...      30     26    29  \n",
       "7988  Honestly when my sister said \"I made reservati...      38     23    26  \n",
       "7989  All our food was either under cooked or way ov...     152     16     2  \n",
       "7990  In my life, I have never wasted money in such ...     111     12     1  \n",
       "7991  While in town, we could help but pop into this...      70    462    29  \n",
       "7992  These guys are horrible communicators!  I have...      67      9     2  \n",
       "7993  This is our first experience with natural dry ...      36      1    33  \n",
       "7994  In retrospect, I should have known better than...    3364   1481  1105  \n",
       "7995  My wife had surgery there 2 months ago and it ...     199      0     0  \n",
       "\n",
       "[7996 rows x 10 columns]"
      ]
     },
     "execution_count": 2,
     "metadata": {},
     "output_type": "execute_result"
    }
   ],
   "source": [
    "data = pd.read_csv('filtered_yelp1.csv')\n",
    "print(data.shape)\n",
    "print(data.info())\n",
    "data"
   ]
  },
  {
   "cell_type": "code",
   "execution_count": 3,
   "metadata": {},
   "outputs": [
    {
     "name": "stdout",
     "output_type": "stream",
     "text": [
      "<class 'pandas.core.frame.DataFrame'>\n",
      "RangeIndex: 7996 entries, 0 to 7995\n",
      "Data columns (total 9 columns):\n",
      "review_id      7996 non-null object\n",
      "user_id        7996 non-null object\n",
      "business_id    7996 non-null object\n",
      "stars          7996 non-null int64\n",
      "date           7996 non-null object\n",
      "text           7996 non-null object\n",
      "useful         7996 non-null int64\n",
      "funny          7996 non-null int64\n",
      "cool           7996 non-null int64\n",
      "dtypes: int64(4), object(5)\n",
      "memory usage: 562.3+ KB\n",
      "None\n"
     ]
    },
    {
     "data": {
      "text/html": [
       "<div>\n",
       "<style>\n",
       "    .dataframe thead tr:only-child th {\n",
       "        text-align: right;\n",
       "    }\n",
       "\n",
       "    .dataframe thead th {\n",
       "        text-align: left;\n",
       "    }\n",
       "\n",
       "    .dataframe tbody tr th {\n",
       "        vertical-align: top;\n",
       "    }\n",
       "</style>\n",
       "<table border=\"1\" class=\"dataframe\">\n",
       "  <thead>\n",
       "    <tr style=\"text-align: right;\">\n",
       "      <th></th>\n",
       "      <th>stars</th>\n",
       "      <th>useful</th>\n",
       "      <th>funny</th>\n",
       "      <th>cool</th>\n",
       "    </tr>\n",
       "  </thead>\n",
       "  <tbody>\n",
       "    <tr>\n",
       "      <th>count</th>\n",
       "      <td>7996.000000</td>\n",
       "      <td>7996.000000</td>\n",
       "      <td>7996.000000</td>\n",
       "      <td>7996.000000</td>\n",
       "    </tr>\n",
       "    <tr>\n",
       "      <th>mean</th>\n",
       "      <td>3.804027</td>\n",
       "      <td>50.640320</td>\n",
       "      <td>33.935468</td>\n",
       "      <td>34.538894</td>\n",
       "    </tr>\n",
       "    <tr>\n",
       "      <th>std</th>\n",
       "      <td>1.292684</td>\n",
       "      <td>82.129376</td>\n",
       "      <td>48.349958</td>\n",
       "      <td>26.679894</td>\n",
       "    </tr>\n",
       "    <tr>\n",
       "      <th>min</th>\n",
       "      <td>1.000000</td>\n",
       "      <td>0.000000</td>\n",
       "      <td>0.000000</td>\n",
       "      <td>0.000000</td>\n",
       "    </tr>\n",
       "    <tr>\n",
       "      <th>25%</th>\n",
       "      <td>3.000000</td>\n",
       "      <td>29.000000</td>\n",
       "      <td>19.000000</td>\n",
       "      <td>24.000000</td>\n",
       "    </tr>\n",
       "    <tr>\n",
       "      <th>50%</th>\n",
       "      <td>4.000000</td>\n",
       "      <td>36.000000</td>\n",
       "      <td>24.000000</td>\n",
       "      <td>30.000000</td>\n",
       "    </tr>\n",
       "    <tr>\n",
       "      <th>75%</th>\n",
       "      <td>5.000000</td>\n",
       "      <td>51.000000</td>\n",
       "      <td>35.000000</td>\n",
       "      <td>41.000000</td>\n",
       "    </tr>\n",
       "    <tr>\n",
       "      <th>max</th>\n",
       "      <td>5.000000</td>\n",
       "      <td>3364.000000</td>\n",
       "      <td>1481.000000</td>\n",
       "      <td>1105.000000</td>\n",
       "    </tr>\n",
       "  </tbody>\n",
       "</table>\n",
       "</div>"
      ],
      "text/plain": [
       "             stars       useful        funny         cool\n",
       "count  7996.000000  7996.000000  7996.000000  7996.000000\n",
       "mean      3.804027    50.640320    33.935468    34.538894\n",
       "std       1.292684    82.129376    48.349958    26.679894\n",
       "min       1.000000     0.000000     0.000000     0.000000\n",
       "25%       3.000000    29.000000    19.000000    24.000000\n",
       "50%       4.000000    36.000000    24.000000    30.000000\n",
       "75%       5.000000    51.000000    35.000000    41.000000\n",
       "max       5.000000  3364.000000  1481.000000  1105.000000"
      ]
     },
     "execution_count": 3,
     "metadata": {},
     "output_type": "execute_result"
    }
   ],
   "source": [
    "data = data.drop('Unnamed: 0', axis = 1)\n",
    "print(data.info())\n",
    "data.describe()"
   ]
  },
  {
   "cell_type": "code",
   "execution_count": 11,
   "metadata": {},
   "outputs": [
    {
     "data": {
      "text/html": [
       "<div>\n",
       "<style>\n",
       "    .dataframe thead tr:only-child th {\n",
       "        text-align: right;\n",
       "    }\n",
       "\n",
       "    .dataframe thead th {\n",
       "        text-align: left;\n",
       "    }\n",
       "\n",
       "    .dataframe tbody tr th {\n",
       "        vertical-align: top;\n",
       "    }\n",
       "</style>\n",
       "<table border=\"1\" class=\"dataframe\">\n",
       "  <thead>\n",
       "    <tr style=\"text-align: right;\">\n",
       "      <th></th>\n",
       "      <th>stars</th>\n",
       "      <th>useful</th>\n",
       "      <th>funny</th>\n",
       "      <th>cool</th>\n",
       "    </tr>\n",
       "  </thead>\n",
       "  <tbody>\n",
       "    <tr>\n",
       "      <th>stars</th>\n",
       "      <td>1.000000</td>\n",
       "      <td>-0.236949</td>\n",
       "      <td>-0.022682</td>\n",
       "      <td>0.145416</td>\n",
       "    </tr>\n",
       "    <tr>\n",
       "      <th>useful</th>\n",
       "      <td>-0.236949</td>\n",
       "      <td>1.000000</td>\n",
       "      <td>0.493364</td>\n",
       "      <td>0.561606</td>\n",
       "    </tr>\n",
       "    <tr>\n",
       "      <th>funny</th>\n",
       "      <td>-0.022682</td>\n",
       "      <td>0.493364</td>\n",
       "      <td>1.000000</td>\n",
       "      <td>0.426372</td>\n",
       "    </tr>\n",
       "    <tr>\n",
       "      <th>cool</th>\n",
       "      <td>0.145416</td>\n",
       "      <td>0.561606</td>\n",
       "      <td>0.426372</td>\n",
       "      <td>1.000000</td>\n",
       "    </tr>\n",
       "  </tbody>\n",
       "</table>\n",
       "</div>"
      ],
      "text/plain": [
       "           stars    useful     funny      cool\n",
       "stars   1.000000 -0.236949 -0.022682  0.145416\n",
       "useful -0.236949  1.000000  0.493364  0.561606\n",
       "funny  -0.022682  0.493364  1.000000  0.426372\n",
       "cool    0.145416  0.561606  0.426372  1.000000"
      ]
     },
     "execution_count": 11,
     "metadata": {},
     "output_type": "execute_result"
    }
   ],
   "source": [
    "# Establishing the corelation between useful, funny and cool\n",
    "\n",
    "stars = data.groupby(\"text\").mean()\n",
    "stars.corr()"
   ]
  },
  {
   "cell_type": "markdown",
   "metadata": {},
   "source": [
    "The correction above shows the relation betweeen cool, funny and useful features and the ratings(star) of the review. As seen here, there is not much corelation between these features to be included in the regression model as features.  "
   ]
  },
  {
   "cell_type": "code",
   "execution_count": 13,
   "metadata": {},
   "outputs": [
    {
     "data": {
      "text/plain": [
       "<seaborn.axisgrid.FacetGrid at 0x187995f2dd8>"
      ]
     },
     "execution_count": 13,
     "metadata": {},
     "output_type": "execute_result"
    },
    {
     "data": {
      "image/png": "[encoded data removed]",
      "text/plain": [
       "<matplotlib.figure.Figure at 0x187995f2470>"
      ]
     },
     "metadata": {},
     "output_type": "display_data"
    }
   ],
   "source": [
    "g = sns.FacetGrid(data=data, col='stars')\n",
    "g.map(plt.hist, 'cool', bins=50)"
   ]
  },
  {
   "cell_type": "code",
   "execution_count": 14,
   "metadata": {},
   "outputs": [
    {
     "data": {
      "text/plain": [
       "<seaborn.axisgrid.FacetGrid at 0x187999aa198>"
      ]
     },
     "execution_count": 14,
     "metadata": {},
     "output_type": "execute_result"
    },
    {
     "data": {
      "image/png": "[encoded data removed]",
      "text/plain": [
       "<matplotlib.figure.Figure at 0x187990d64e0>"
      ]
     },
     "metadata": {},
     "output_type": "display_data"
    }
   ],
   "source": [
    "g = sns.FacetGrid(data=data, col='stars')\n",
    "g.map(plt.hist, 'useful', bins=50)"
   ]
  },
  {
   "cell_type": "code",
   "execution_count": 15,
   "metadata": {},
   "outputs": [
    {
     "data": {
      "text/plain": [
       "<seaborn.axisgrid.FacetGrid at 0x1879abd80f0>"
      ]
     },
     "execution_count": 15,
     "metadata": {},
     "output_type": "execute_result"
    },
    {
     "data": {
      "image/png": "[encoded data removed]",
      "text/plain": [
       "<matplotlib.figure.Figure at 0x1879abe39b0>"
      ]
     },
     "metadata": {},
     "output_type": "display_data"
    }
   ],
   "source": [
    "g = sns.FacetGrid(data=data, col='stars')\n",
    "g.map(plt.hist, 'funny', bins=50)"
   ]
  },
  {
   "cell_type": "markdown",
   "metadata": {},
   "source": [
    "The above three graphs show the counts of funny, useful and cool features and their counts according to different ratings. The noticable thing about the reviews is there are various reviews which are have very few upvotes(funny, useful or cool).\n",
    "\n",
    "Another thing that needs to be taken into consideration is the uneven distribution of reviews to the perticular rating. 4 and 5 have the maximum upvotes whereas 2, 3 have the least upvotes."
   ]
  },
  {
   "cell_type": "code",
   "execution_count": 16,
   "metadata": {
    "collapsed": true
   },
   "outputs": [],
   "source": [
    "X = data['text']\n",
    "Y = data['stars']"
   ]
  },
  {
   "cell_type": "code",
   "execution_count": 17,
   "metadata": {
    "collapsed": true
   },
   "outputs": [],
   "source": [
    "Xdata = np.array(X)\n",
    "Ydata = np.array(Y)"
   ]
  },
  {
   "cell_type": "markdown",
   "metadata": {},
   "source": [
    "### Text Processes"
   ]
  },
  {
   "cell_type": "code",
   "execution_count": 18,
   "metadata": {
    "collapsed": true
   },
   "outputs": [],
   "source": [
    "# Just Stopwords removal\n",
    "import string\n",
    "\n",
    "def text_process1(text):\n",
    "    nopunc = [char for char in text if char not in string.punctuation] #removes punctuations\n",
    "    nopunc = ''.join(nopunc)\n",
    "    wordLIst = [word for word in nopunc.split() if word.lower() not in stopwords.words('english')] #removes stop words\n",
    "    return wordLIst"
   ]
  },
  {
   "cell_type": "code",
   "execution_count": 19,
   "metadata": {
    "collapsed": true
   },
   "outputs": [],
   "source": [
    "# stemmer\n",
    "import string\n",
    "\n",
    "def text_process2(text):\n",
    "    stemmer = PorterStemmer()\n",
    "    nopunc = [char for char in text if char not in string.punctuation] #removes punctuations\n",
    "    nopunc = ''.join(nopunc)\n",
    "    wordLIst = [stemmer.stem(word.lower()) for word in nopunc.split() if word.lower() not in stopwords.words('english')] #Apply stemmer\n",
    "    return wordLIst"
   ]
  },
  {
   "cell_type": "code",
   "execution_count": 20,
   "metadata": {
    "collapsed": true
   },
   "outputs": [],
   "source": [
    "# pos tagging + stemmer \n",
    "import string\n",
    "\n",
    "def text_process3(text):\n",
    "    stemmer = PorterStemmer()\n",
    "    nopunc = [char for char in text if char not in string.punctuation] #removes punctuations\n",
    "    nopunc = ''.join(nopunc)\n",
    "    wordLIst = [word for word in nopunc.split() if word.lower() not in stopwords.words('english')] #removes stop words\n",
    "    dictTag = pos_tag(wordLIst)\n",
    "    adj_preceders = [a for (a, b) in dictTag if (b == 'JJ' or b == 'RB' or b == 'VB')]\n",
    "    return [stemmer.stem(adj_word.lower()) for adj_word in adj_preceders]"
   ]
  },
  {
   "cell_type": "code",
   "execution_count": 21,
   "metadata": {},
   "outputs": [
    {
     "name": "stdout",
     "output_type": "stream",
     "text": [
      "['Im', 'nontraditional', 'girlfriend', 'always', 'forget', 'whats', 'expected', 'conventional', 'gift', 'giving', 'holidays', 'like', 'Valentines', 'Day', 'year', 'totally', 'neglected', 'get', 'Mr', 'Man', 'much', 'card', 'Dog', 'house', 'thought', 'werent', 'celebrating', 'know', 'little', 'sneaker', 'would', 'bring', 'smile', 'face', 'cutesy', 'cheesy', 'tchotchky', 'gift', 'card', 'combo', 'Little', 'know', 'ace', 'sleeve', 'ace', 'lots', 'lots', 'titacular', 'action', 'Bombshells', 'know', 'nothing', 'brings', 'smile', 'Mr', 'Mans', 'face', 'quicker', 'pair', 'boobies', 'stopped', 'Sunday', 'sinful', 'indulgence', 'illusionary', 'atmosphere', 'nontraditionalist', 'doesnt', 'bad', 'thing', 'Sundays', '2', '1', 'well', 'drinks', 'domestic', 'bottles', '7', 'pm', 'nice', '775', 'short', 'gin', 'tonic', 'Theres', 'also', 'cover', 'indication', 'Sunday', 'nudity', 'lures', 'guys', 'reminiscent', 'dad', 'Expect', 'gentlemen', 'kahki', 'shorts', 'button', 'shirts', 'paying', 'lady', 'rub', 'bits', 'least', 'gents', 'better', 'business', 'twentysomethings', 'watched', 'entire', 'time', 'dollar', 'bill', 'sight', 'Skeeze', 'pretty', 'easy', 'see', 'girls', 'enjoying', 'least', 'good', 'job', 'faking', 'whos', 'bored', 'get', 'enthusiastic', 'ladies', 'especially', 'shift', 'change', '6pm', 'totally', 'knew', 'work', 'pole', 'seven', 'inch', 'heels', 'Dont', 'come', 'expecting', 'tig', 'ole', 'fake', 'bitties', 'usually', 'encounter', 'Skin', 'Scottsdale', 'places', 'ladies', 'au', 'natural', 'wouldnt', 'way', 'Whats', 'nicest', 'fact', 'theyre', 'willing', 'sit', 'chat', 'regardless', 'whether', 'youre', 'interested', 'lap', 'dance', 'Lovely', 'buxom', 'brunette', 'girlfriend', 'celebrating', 'Mr', 'Man', 'baffled', 'blank', 'stare', 'Sunday', 'LBB', 'Wow', 'Shes', 'keeper', 'Hold', 'one', 'Officially', 'dog', 'house', 'brusque', 'allbusiness', 'attitude', 'Bombshells', 'even', 'though', 'girl', 'wasnt', 'shift', 'aside', 'awkward', 'couple', 'came', 'scowling', 'stayed', 'three', 'songs', 'booked', 'theres', 'awkwardness', 'since', 'Im', 'woman', 'get', 'supremely', 'sexy', 'treatment', 'instead', 'perfunctory', 'titty', 'shake', 'tip', 'icing', 'lecherous', 'evening', 'Mr', 'Man', 'got', 'lap', 'dance', 'Italian', 'beauty', 'offered', 'couples', 'one', 'extra', 'charge', 'thats', 'class', 'Maybe', 'Im', 'harsh', 'whole', 'tradition', 'thing', 'Lets', 'make', 'AntiValentines', 'Day', 'Debauchery', 'regular', 'occurrence']\n"
     ]
    }
   ],
   "source": [
    "print(text_process1(Xdata[0]))"
   ]
  },
  {
   "cell_type": "code",
   "execution_count": 22,
   "metadata": {},
   "outputs": [
    {
     "name": "stdout",
     "output_type": "stream",
     "text": [
      "['im', 'nontradit', 'girlfriend', 'alway', 'forget', 'what', 'expect', 'convent', 'gift', 'give', 'holiday', 'like', 'valentin', 'day', 'year', 'total', 'neglect', 'get', 'mr', 'man', 'much', 'card', 'dog', 'hous', 'thought', 'werent', 'celebr', 'know', 'littl', 'sneaker', 'would', 'bring', 'smile', 'face', 'cutesi', 'cheesi', 'tchotchki', 'gift', 'card', 'combo', 'littl', 'know', 'ace', 'sleev', 'ace', 'lot', 'lot', 'titacular', 'action', 'bombshel', 'know', 'noth', 'bring', 'smile', 'mr', 'man', 'face', 'quicker', 'pair', 'boobi', 'stop', 'sunday', 'sin', 'indulg', 'illusionari', 'atmospher', 'nontraditionalist', 'doesnt', 'bad', 'thing', 'sunday', '2', '1', 'well', 'drink', 'domest', 'bottl', '7', 'pm', 'nice', '775', 'short', 'gin', 'tonic', 'there', 'also', 'cover', 'indic', 'sunday', 'nuditi', 'lure', 'guy', 'reminisc', 'dad', 'expect', 'gentlemen', 'kahki', 'short', 'button', 'shirt', 'pay', 'ladi', 'rub', 'bit', 'least', 'gent', 'better', 'busi', 'twentysometh', 'watch', 'entir', 'time', 'dollar', 'bill', 'sight', 'skeez', 'pretti', 'easi', 'see', 'girl', 'enjoy', 'least', 'good', 'job', 'fake', 'who', 'bore', 'get', 'enthusiast', 'ladi', 'especi', 'shift', 'chang', '6pm', 'total', 'knew', 'work', 'pole', 'seven', 'inch', 'heel', 'dont', 'come', 'expect', 'tig', 'ole', 'fake', 'bitti', 'usual', 'encount', 'skin', 'scottsdal', 'place', 'ladi', 'au', 'natur', 'wouldnt', 'way', 'what', 'nicest', 'fact', 'theyr', 'will', 'sit', 'chat', 'regardless', 'whether', 'your', 'interest', 'lap', 'danc', 'love', 'buxom', 'brunett', 'girlfriend', 'celebr', 'mr', 'man', 'baffl', 'blank', 'stare', 'sunday', 'lbb', 'wow', 'she', 'keeper', 'hold', 'one', 'offici', 'dog', 'hous', 'brusqu', 'allbusi', 'attitud', 'bombshel', 'even', 'though', 'girl', 'wasnt', 'shift', 'asid', 'awkward', 'coupl', 'came', 'scowl', 'stay', 'three', 'song', 'book', 'there', 'awkward', 'sinc', 'im', 'woman', 'get', 'suprem', 'sexi', 'treatment', 'instead', 'perfunctori', 'titti', 'shake', 'tip', 'ice', 'lecher', 'even', 'mr', 'man', 'got', 'lap', 'danc', 'italian', 'beauti', 'offer', 'coupl', 'one', 'extra', 'charg', 'that', 'class', 'mayb', 'im', 'harsh', 'whole', 'tradit', 'thing', 'let', 'make', 'antivalentin', 'day', 'debaucheri', 'regular', 'occurr']\n"
     ]
    }
   ],
   "source": [
    "print(text_process2(Xdata[0]))"
   ]
  },
  {
   "cell_type": "code",
   "execution_count": 23,
   "metadata": {},
   "outputs": [
    {
     "name": "stdout",
     "output_type": "stream",
     "text": [
      "['nontradit', 'alway', 'forget', 'convent', 'total', 'neglect', 'much', 'werent', 'know', 'littl', 'bring', 'smile', 'combo', 'know', 'titacular', 'sin', 'atmospher', 'nontraditionalist', 'bad', 'well', 'domest', 'pm', 'nice', 'short', 'tonic', 'also', 'guy', 'reminisc', 'entir', 'pretti', 'easi', 'good', 'get', 'enthusiast', 'especi', 'chang', 'total', 'knew', 'ole', 'fake', 'usual', 'au', 'natur', 'will', 'interest', 'blank', 'allbusi', 'even', 'girl', 'asid', 'awkward', 'awkward', 'get', 'suprem', 'sexi', 'instead', 'perfunctori', 'titti', 'lecher', 'lap', 'italian', 'extra', 'mayb', 'harsh', 'whole', 'regular']\n"
     ]
    }
   ],
   "source": [
    "print(text_process3(Xdata[0]))"
   ]
  },
  {
   "cell_type": "markdown",
   "metadata": {},
   "source": [
    "### Apply Count Vectorizer"
   ]
  },
  {
   "cell_type": "code",
   "execution_count": 27,
   "metadata": {
    "collapsed": true
   },
   "outputs": [],
   "source": [
    "from sklearn.feature_extraction.text import CountVectorizer\n",
    "\n",
    "vectorizer = CountVectorizer(analyzer=text_process2).fit(Xdata)"
   ]
  },
  {
   "cell_type": "code",
   "execution_count": 28,
   "metadata": {},
   "outputs": [
    {
     "data": {
      "text/plain": [
       "41163"
      ]
     },
     "execution_count": 28,
     "metadata": {},
     "output_type": "execute_result"
    }
   ],
   "source": [
    "len(vectorizer.vocabulary_)"
   ]
  },
  {
   "cell_type": "code",
   "execution_count": 30,
   "metadata": {
    "collapsed": true
   },
   "outputs": [],
   "source": [
    "Xdata1 = vectorizer.transform(Xdata)"
   ]
  },
  {
   "cell_type": "code",
   "execution_count": 31,
   "metadata": {},
   "outputs": [
    {
     "name": "stdout",
     "output_type": "stream",
     "text": [
      "(7996, 41163) 882763\n"
     ]
    }
   ],
   "source": [
    "print(Xdata1.shape,Xdata1.nnz)"
   ]
  },
  {
   "cell_type": "markdown",
   "metadata": {},
   "source": [
    "### Multinomial NB"
   ]
  },
  {
   "cell_type": "code",
   "execution_count": 81,
   "metadata": {
    "collapsed": true
   },
   "outputs": [],
   "source": [
    "from sklearn.naive_bayes import MultinomialNB\n",
    "\n",
    "nb_model = MultinomialNB()"
   ]
  },
  {
   "cell_type": "markdown",
   "metadata": {},
   "source": [
    "### Experiment 1"
   ]
  },
  {
   "cell_type": "markdown",
   "metadata": {},
   "source": [
    "In this experiment, we experiment on different values of alpha i.e. the learning rate for the Naïve bayes classifier. The values tested are 0.1, 1, 3 and 10 and accuracy and the evaluation matrices are obtained. This is also a place where we count vectorize and split the data for training and testing purposes in 80% and 20% respectively. We also oversampled the data for better results as discuss above."
   ]
  },
  {
   "cell_type": "code",
   "execution_count": 73,
   "metadata": {},
   "outputs": [
    {
     "name": "stdout",
     "output_type": "stream",
     "text": [
      "(7996, 41163) 882763\n"
     ]
    }
   ],
   "source": [
    "vectorizer = CountVectorizer(analyzer=text_process2).fit(Xdata)\n",
    "len(vectorizer.vocabulary_)\n",
    "XdataEx1 = vectorizer.transform(Xdata)\n",
    "print(XdataEx1.shape, XdataEx1.nnz)"
   ]
  },
  {
   "cell_type": "code",
   "execution_count": 170,
   "metadata": {
    "collapsed": true
   },
   "outputs": [],
   "source": [
    "X_train_Ex1, X_test_Ex1, Y_train_Ex1, Y_test_Ex1 = train_test_split(XdataEx1, Ydata, test_size=0.2, random_state=101)"
   ]
  },
  {
   "cell_type": "code",
   "execution_count": 171,
   "metadata": {},
   "outputs": [
    {
     "data": {
      "text/plain": [
       "(11795, 41163)"
      ]
     },
     "execution_count": 171,
     "metadata": {},
     "output_type": "execute_result"
    }
   ],
   "source": [
    "X_resampledEx1, Y_resampledEx1 = SMOTE().fit_sample(X_train_Ex1, Y_train_Ex1)\n",
    "X_resampledEx1.shape"
   ]
  },
  {
   "cell_type": "code",
   "execution_count": 229,
   "metadata": {},
   "outputs": [
    {
     "name": "stdout",
     "output_type": "stream",
     "text": [
      "confusion matrix for alpha = 0.1\n",
      " [[136   9  10  11   3]\n",
      " [ 22   6  21  18   3]\n",
      " [ 14   8  64 108  29]\n",
      " [ 15   5  54 302 149]\n",
      " [ 69   8  21 201 314]]\n",
      "\n",
      "\n",
      "Classification report for alpha = 0.1\n",
      "              precision    recall  f1-score   support\n",
      "\n",
      "          1       0.53      0.80      0.64       169\n",
      "          2       0.17      0.09      0.11        70\n",
      "          3       0.38      0.29      0.33       223\n",
      "          4       0.47      0.58      0.52       525\n",
      "          5       0.63      0.51      0.57       613\n",
      "\n",
      "avg / total       0.51      0.51      0.50      1600\n",
      "\n",
      "Accuracy in % for alpha = 0.1 is  51.375\n"
     ]
    }
   ],
   "source": [
    "# first model\n",
    "nb_model1 = MultinomialNB(alpha = 0.1)\n",
    "nb_model1.fit(X_resampledEx1, Y_resampledEx1)\n",
    "prediction1 = nb_model1.predict(X_test_Ex1)\n",
    "\n",
    "cnf_1 = confusion_matrix(Y_test_Ex1, prediction1)\n",
    "print(\"confusion matrix for alpha = 0.1\\n\", cnf_1)\n",
    "print('\\n')\n",
    "print(\"Classification report for alpha = 0.1\\n\", classification_report(Y_test_Ex1, prediction1))\n",
    "print(\"Accuracy in % for alpha = 0.1 is \",accuracy_score(Y_test_Ex1, prediction1)*100)\n",
    "\n",
    "tpArray1, fpArray1 = CalCorrectClassifiedForEachClass(cnf_1)"
   ]
  },
  {
   "cell_type": "code",
   "execution_count": 230,
   "metadata": {},
   "outputs": [
    {
     "data": {
      "image/png": "[encoded data removed]",
      "text/plain": [
       "<matplotlib.figure.Figure at 0x187a2417c50>"
      ]
     },
     "metadata": {},
     "output_type": "display_data"
    }
   ],
   "source": [
    "N = 5\n",
    "menMeans = tpArray1\n",
    "womenMeans = fpArray1\n",
    "\n",
    "ind = np.arange(N)    # the x locations for the groups\n",
    "width = 0.5       # the width of the bars: can also be len(x) sequence\n",
    "\n",
    "p1 = plt.bar(ind, menMeans, width)\n",
    "p2 = plt.bar(ind, womenMeans, width, bottom=menMeans)\n",
    "\n",
    "plt.ylabel('Count')\n",
    "plt.xlabel('Rating')\n",
    "plt.title('Rating counts for each class')\n",
    "plt.xticks(ind, ('1', '2', '3', '4', '5'))\n",
    "# plt.yticks(np.arange(0, 81, 10))\n",
    "plt.legend((p1[0], p2[0]), ('Correct', 'Incorrect'))\n",
    "\n",
    "plt.show()"
   ]
  },
  {
   "cell_type": "code",
   "execution_count": 231,
   "metadata": {},
   "outputs": [
    {
     "name": "stdout",
     "output_type": "stream",
     "text": [
      "confusion matrix for alpha = 1\n",
      " [[137  11   9   9   3]\n",
      " [ 23  10  19  15   3]\n",
      " [ 15   9  60 114  25]\n",
      " [ 19  10  43 331 122]\n",
      " [ 79  10  13 218 293]]\n",
      "\n",
      "\n",
      "Classification report for alpha = 1\n",
      "              precision    recall  f1-score   support\n",
      "\n",
      "          1       0.50      0.81      0.62       169\n",
      "          2       0.20      0.14      0.17        70\n",
      "          3       0.42      0.27      0.33       223\n",
      "          4       0.48      0.63      0.55       525\n",
      "          5       0.66      0.48      0.55       613\n",
      "\n",
      "avg / total       0.53      0.52      0.51      1600\n",
      "\n",
      "Accuracy in % for alpha = 1 is  51.9375\n"
     ]
    }
   ],
   "source": [
    "# second model\n",
    "nb_model2 = MultinomialNB(alpha = 1)\n",
    "nb_model2.fit(X_resampledEx1, Y_resampledEx1)\n",
    "prediction2 = nb_model2.predict(X_test_Ex1)\n",
    "\n",
    "cnf_2 = confusion_matrix(Y_test_Ex1, prediction2)\n",
    "print(\"confusion matrix for alpha = 1\\n\", cnf_2)\n",
    "print('\\n')\n",
    "print(\"Classification report for alpha = 1\\n\", classification_report(Y_test_Ex1, prediction2))\n",
    "print(\"Accuracy in % for alpha = 1 is \",accuracy_score(Y_test_Ex1, prediction2)*100)\n",
    "\n",
    "tpArray2, fpArray2 = CalCorrectClassifiedForEachClass(cnf_2)"
   ]
  },
  {
   "cell_type": "code",
   "execution_count": 232,
   "metadata": {},
   "outputs": [
    {
     "data": {
      "image/png": "[encoded data removed]",
      "text/plain": [
       "<matplotlib.figure.Figure at 0x187a23dbeb8>"
      ]
     },
     "metadata": {},
     "output_type": "display_data"
    }
   ],
   "source": [
    "N = 5\n",
    "menMeans = tpArray2\n",
    "womenMeans = fpArray2\n",
    "\n",
    "ind = np.arange(N)    # the x locations for the groups\n",
    "width = 0.5       # the width of the bars: can also be len(x) sequence\n",
    "\n",
    "p1 = plt.bar(ind, menMeans, width)\n",
    "p2 = plt.bar(ind, womenMeans, width, bottom=menMeans)\n",
    "\n",
    "plt.ylabel('Count')\n",
    "plt.xlabel('Rating')\n",
    "plt.title('Rating counts for each class')\n",
    "plt.xticks(ind, ('1', '2', '3', '4', '5'))\n",
    "# plt.yticks(np.arange(0, 81, 10))\n",
    "plt.legend((p1[0], p2[0]), ('Correct', 'Incorrect'))\n",
    "\n",
    "plt.show()"
   ]
  },
  {
   "cell_type": "code",
   "execution_count": 233,
   "metadata": {},
   "outputs": [
    {
     "name": "stdout",
     "output_type": "stream",
     "text": [
      "confusion matrix for alpha = 3\n",
      " [[133  10   7  13   6]\n",
      " [ 24   7  10  26   3]\n",
      " [ 16   4  27 153  23]\n",
      " [ 20   2  15 371 117]\n",
      " [ 72   4   6 234 297]]\n",
      "\n",
      "\n",
      "Classification report for alpha = 3\n",
      "              precision    recall  f1-score   support\n",
      "\n",
      "          1       0.50      0.79      0.61       169\n",
      "          2       0.26      0.10      0.14        70\n",
      "          3       0.42      0.12      0.19       223\n",
      "          4       0.47      0.71      0.56       525\n",
      "          5       0.67      0.48      0.56       613\n",
      "\n",
      "avg / total       0.53      0.52      0.50      1600\n",
      "\n",
      "Accuracy in % for alpha = 3 is  52.1875\n"
     ]
    }
   ],
   "source": [
    "# third model\n",
    "nb_model3 = MultinomialNB(alpha = 3)\n",
    "nb_model3.fit(X_resampledEx1, Y_resampledEx1)\n",
    "prediction3 = nb_model3.predict(X_test_Ex1)\n",
    "\n",
    "cnf_3 = confusion_matrix(Y_test_Ex1, prediction3)\n",
    "print(\"confusion matrix for alpha = 3\\n\", cnf_3)\n",
    "print('\\n')\n",
    "print(\"Classification report for alpha = 3\\n\", classification_report(Y_test_Ex1, prediction3))\n",
    "print(\"Accuracy in % for alpha = 3 is \",accuracy_score(Y_test_Ex1, prediction3)*100)\n",
    "\n",
    "tpArray3, fpArray3 = CalCorrectClassifiedForEachClass(cnf_3)"
   ]
  },
  {
   "cell_type": "code",
   "execution_count": 234,
   "metadata": {},
   "outputs": [
    {
     "data": {
      "image/png": "[encoded data removed]",
      "text/plain": [
       "<matplotlib.figure.Figure at 0x187a2c39d30>"
      ]
     },
     "metadata": {},
     "output_type": "display_data"
    }
   ],
   "source": [
    "N = 5\n",
    "menMeans = tpArray3\n",
    "womenMeans = fpArray3\n",
    "\n",
    "ind = np.arange(N)    # the x locations for the groups\n",
    "width = 0.5       # the width of the bars: can also be len(x) sequence\n",
    "\n",
    "p1 = plt.bar(ind, menMeans, width)\n",
    "p2 = plt.bar(ind, womenMeans, width, bottom=menMeans)\n",
    "\n",
    "plt.ylabel('Count')\n",
    "plt.xlabel('Rating')\n",
    "plt.title('Rating counts for each class')\n",
    "plt.xticks(ind, ('1', '2', '3', '4', '5'))\n",
    "# plt.yticks(np.arange(0, 81, 10))\n",
    "plt.legend((p1[0], p2[0]), ('Correct', 'Incorrect'))\n",
    "\n",
    "plt.show()"
   ]
  },
  {
   "cell_type": "code",
   "execution_count": 235,
   "metadata": {},
   "outputs": [
    {
     "name": "stdout",
     "output_type": "stream",
     "text": [
      "confusion matrix for alpha = 10\n",
      " [[132   4   3  24   6]\n",
      " [ 22   1   1  43   3]\n",
      " [ 13   2   3 185  20]\n",
      " [ 14   1   3 400 107]\n",
      " [ 57   1   1 261 293]]\n",
      "\n",
      "\n",
      "Classification report for alpha = 10\n",
      "              precision    recall  f1-score   support\n",
      "\n",
      "          1       0.55      0.78      0.65       169\n",
      "          2       0.11      0.01      0.03        70\n",
      "          3       0.27      0.01      0.03       223\n",
      "          4       0.44      0.76      0.56       525\n",
      "          5       0.68      0.48      0.56       613\n",
      "\n",
      "avg / total       0.51      0.52      0.47      1600\n",
      "\n",
      "Accuracy in % for alpha = 10 is  51.8125\n"
     ]
    }
   ],
   "source": [
    "# fourth model\n",
    "nb_model4 = MultinomialNB(alpha = 10)\n",
    "nb_model4.fit(X_resampledEx1, Y_resampledEx1)\n",
    "prediction4 = nb_model4.predict(X_test_Ex1)\n",
    "\n",
    "cnf_4 = confusion_matrix(Y_test_Ex1, prediction4)\n",
    "print(\"confusion matrix for alpha = 10\\n\", cnf_4)\n",
    "print('\\n')\n",
    "print(\"Classification report for alpha = 10\\n\", classification_report(Y_test_Ex1, prediction4))\n",
    "print(\"Accuracy in % for alpha = 10 is \",accuracy_score(Y_test_Ex1, prediction4)*100)\n",
    "\n",
    "tpArray, fpArray = CalCorrectClassifiedForEachClass(cnf_4)"
   ]
  },
  {
   "cell_type": "code",
   "execution_count": 236,
   "metadata": {},
   "outputs": [
    {
     "data": {
      "image/png": "[encoded data removed]",
      "text/plain": [
       "<matplotlib.figure.Figure at 0x187a3bd7a58>"
      ]
     },
     "metadata": {},
     "output_type": "display_data"
    }
   ],
   "source": [
    "N = 5\n",
    "menMeans = tpArray\n",
    "womenMeans = fpArray\n",
    "\n",
    "ind = np.arange(N)    # the x locations for the groups\n",
    "width = 0.5       # the width of the bars: can also be len(x) sequence\n",
    "\n",
    "p1 = plt.bar(ind, menMeans, width)\n",
    "p2 = plt.bar(ind, womenMeans, width, bottom=menMeans)\n",
    "\n",
    "plt.ylabel('Count')\n",
    "plt.xlabel('Rating')\n",
    "plt.title('Rating counts for each class')\n",
    "plt.xticks(ind, ('1', '2', '3', '4', '5'))\n",
    "# plt.yticks(np.arange(0, 81, 10))\n",
    "plt.legend((p1[0], p2[0]), ('Correct', 'Incorrect'))\n",
    "\n",
    "plt.show()"
   ]
  },
  {
   "cell_type": "markdown",
   "metadata": {},
   "source": [
    "### Experiment 2"
   ]
  },
  {
   "cell_type": "markdown",
   "metadata": {},
   "source": [
    "In this experiment, we experiment on different processing techniques for calculating the values of count vectorizer to be fed as a data for train and test. For this experiment, we are using the text process which removes the punctuation and the stop words from the review. We calculate our count Vector based on this analyzer and then split it for training and testing in 80% and 20% respectively. We also oversample the data for better results as discuss above. Then, we are training and testing the model for the predictions and finally, the accuracy and the evaluation matrix is obtained."
   ]
  },
  {
   "cell_type": "code",
   "execution_count": 257,
   "metadata": {
    "collapsed": true
   },
   "outputs": [],
   "source": [
    "nb_model = MultinomialNB(alpha = 3)"
   ]
  },
  {
   "cell_type": "code",
   "execution_count": 33,
   "metadata": {},
   "outputs": [
    {
     "name": "stdout",
     "output_type": "stream",
     "text": [
      "(7996, 68076) 945036\n"
     ]
    }
   ],
   "source": [
    "vectorizer = CountVectorizer(analyzer=text_process1).fit(Xdata)\n",
    "len(vectorizer.vocabulary_)\n",
    "Xdata1 = vectorizer.transform(Xdata)\n",
    "print(Xdata1.shape, Xdata1.nnz)"
   ]
  },
  {
   "cell_type": "code",
   "execution_count": 258,
   "metadata": {
    "collapsed": true
   },
   "outputs": [],
   "source": [
    "from sklearn.model_selection import train_test_split\n",
    "\n",
    "X_train_1, X_test_1, Y_train_1, Y_test_1 = train_test_split(Xdata1, Ydata, test_size=0.2, random_state=101)"
   ]
  },
  {
   "cell_type": "code",
   "execution_count": 259,
   "metadata": {},
   "outputs": [
    {
     "data": {
      "text/plain": [
       "(6396, 68076)"
      ]
     },
     "execution_count": 259,
     "metadata": {},
     "output_type": "execute_result"
    }
   ],
   "source": [
    "X_train_1.shape"
   ]
  },
  {
   "cell_type": "code",
   "execution_count": 260,
   "metadata": {},
   "outputs": [
    {
     "name": "stdout",
     "output_type": "stream",
     "text": [
      "[(1, 715), (2, 356), (3, 812), (4, 2154), (5, 2359)]\n"
     ]
    }
   ],
   "source": [
    "from collections import Counter\n",
    "print(sorted(Counter(Y_train_1).items()))"
   ]
  },
  {
   "cell_type": "code",
   "execution_count": 261,
   "metadata": {},
   "outputs": [
    {
     "data": {
      "text/plain": [
       "(11795, 68076)"
      ]
     },
     "execution_count": 261,
     "metadata": {},
     "output_type": "execute_result"
    }
   ],
   "source": [
    "# Oversampling\n",
    "\n",
    "X_resampled1, Y_resampled1 = SMOTE().fit_sample(X_train_1, Y_train_1)\n",
    "X_resampled1.shape"
   ]
  },
  {
   "cell_type": "code",
   "execution_count": 262,
   "metadata": {},
   "outputs": [
    {
     "name": "stdout",
     "output_type": "stream",
     "text": [
      "[(1, 2359), (2, 2359), (3, 2359), (4, 2359), (5, 2359)]\n"
     ]
    }
   ],
   "source": [
    "from collections import Counter\n",
    "print(sorted(Counter(Y_resampled1).items()))"
   ]
  },
  {
   "cell_type": "code",
   "execution_count": 263,
   "metadata": {},
   "outputs": [
    {
     "data": {
      "text/plain": [
       "MultinomialNB(alpha=3, class_prior=None, fit_prior=True)"
      ]
     },
     "execution_count": 263,
     "metadata": {},
     "output_type": "execute_result"
    }
   ],
   "source": [
    "nb_model.fit(X_resampled1, Y_resampled1)"
   ]
  },
  {
   "cell_type": "code",
   "execution_count": 264,
   "metadata": {
    "collapsed": true
   },
   "outputs": [],
   "source": [
    "predictionEx1 = nb_model.predict(X_test_1)"
   ]
  },
  {
   "cell_type": "code",
   "execution_count": 265,
   "metadata": {},
   "outputs": [
    {
     "name": "stdout",
     "output_type": "stream",
     "text": [
      "[[133   6   4  20   6]\n",
      " [ 24   1   7  35   3]\n",
      " [ 14   4  15 167  23]\n",
      " [ 15   2  11 375 122]\n",
      " [ 73   6   4 231 299]]\n",
      "\n",
      "\n",
      "             precision    recall  f1-score   support\n",
      "\n",
      "          1       0.51      0.79      0.62       169\n",
      "          2       0.05      0.01      0.02        70\n",
      "          3       0.37      0.07      0.11       223\n",
      "          4       0.45      0.71      0.55       525\n",
      "          5       0.66      0.49      0.56       613\n",
      "\n",
      "avg / total       0.51      0.51      0.48      1600\n",
      "\n"
     ]
    }
   ],
   "source": [
    "from sklearn.metrics import confusion_matrix, classification_report\n",
    "\n",
    "confusionMatrix2 = confusion_matrix(Y_test_1, predictionEx1)\n",
    "print(confusionMatrix2)\n",
    "print('\\n')\n",
    "print(classification_report(Y_test_1, predictionEx1))\n",
    "\n",
    "tpArrayEx2, fpArrayEx2 = CalCorrectClassifiedForEachClass(confusionMatrix2)"
   ]
  },
  {
   "cell_type": "code",
   "execution_count": 266,
   "metadata": {},
   "outputs": [
    {
     "name": "stdout",
     "output_type": "stream",
     "text": [
      "0.514375\n"
     ]
    }
   ],
   "source": [
    "from sklearn.metrics import accuracy_score\n",
    "\n",
    "print(accuracy_score(Y_test_1, predictionEx1))"
   ]
  },
  {
   "cell_type": "code",
   "execution_count": 267,
   "metadata": {},
   "outputs": [
    {
     "data": {
      "image/png": "[encoded data removed]",
      "text/plain": [
       "<matplotlib.figure.Figure at 0x187a5fedba8>"
      ]
     },
     "metadata": {},
     "output_type": "display_data"
    }
   ],
   "source": [
    "tp2, fp2 = CalCorrectClassified(confusionMatrix2)\n",
    "(tp2,fp2)\n",
    "\n",
    "N = 5\n",
    "menMeans = tpArrayEx2\n",
    "womenMeans = fpArrayEx2\n",
    "\n",
    "ind = np.arange(N)    # the x locations for the groups\n",
    "width = 0.5       # the width of the bars: can also be len(x) sequence\n",
    "\n",
    "p1 = plt.bar(ind, menMeans, width)\n",
    "p2 = plt.bar(ind, womenMeans, width, bottom=menMeans)\n",
    "\n",
    "plt.ylabel('Count')\n",
    "plt.xlabel('Rating')\n",
    "plt.title('Rating counts for each class')\n",
    "plt.xticks(ind, ('1', '2', '3', '4', '5'))\n",
    "# plt.yticks(np.arange(0, 81, 10))\n",
    "plt.legend((p1[0], p2[0]), ('Correct', 'Incorrect'))\n",
    "\n",
    "plt.show()"
   ]
  },
  {
   "cell_type": "markdown",
   "metadata": {},
   "source": [
    "### Experiment 3"
   ]
  },
  {
   "cell_type": "markdown",
   "metadata": {},
   "source": [
    "In this experiment, we experiment on different processing techniques for calculating the values of count vectorizer to be fed as a data for train and test. For this experiment, we are using the text process which removes the punctuation and the stop words from the review. After that, the processes also stem the words obtained i.e. it reduces the words to its basic form. We calculate our count Vector based on this analyzer and then split it for training and testing in 80% and 20% respectively. We also oversample the data for better results as discuss above. Then, we train and test the model for the predictions. Finally, the accuracy and the evaluation matrix are obtained."
   ]
  },
  {
   "cell_type": "code",
   "execution_count": 43,
   "metadata": {},
   "outputs": [
    {
     "name": "stdout",
     "output_type": "stream",
     "text": [
      "(7996, 41163) 882763\n"
     ]
    }
   ],
   "source": [
    "vectorizer = CountVectorizer(analyzer=text_process2).fit(Xdata)\n",
    "len(vectorizer.vocabulary_)\n",
    "Xdata2 = vectorizer.transform(Xdata)\n",
    "print(Xdata2.shape, Xdata2.nnz)"
   ]
  },
  {
   "cell_type": "code",
   "execution_count": 192,
   "metadata": {
    "collapsed": true
   },
   "outputs": [],
   "source": [
    "from sklearn.model_selection import train_test_split\n",
    "\n",
    "X_train_2, X_test_2, Y_train_2, Y_test_2 = train_test_split(Xdata2, Ydata, test_size=0.2, random_state=101)"
   ]
  },
  {
   "cell_type": "code",
   "execution_count": 193,
   "metadata": {},
   "outputs": [
    {
     "data": {
      "text/plain": [
       "(6396, 41163)"
      ]
     },
     "execution_count": 193,
     "metadata": {},
     "output_type": "execute_result"
    }
   ],
   "source": [
    "X_train_2.shape"
   ]
  },
  {
   "cell_type": "code",
   "execution_count": 194,
   "metadata": {},
   "outputs": [
    {
     "name": "stdout",
     "output_type": "stream",
     "text": [
      "[(1, 715), (2, 356), (3, 812), (4, 2154), (5, 2359)]\n"
     ]
    }
   ],
   "source": [
    "from collections import Counter\n",
    "print(sorted(Counter(Y_train_2).items()))"
   ]
  },
  {
   "cell_type": "code",
   "execution_count": 195,
   "metadata": {},
   "outputs": [
    {
     "data": {
      "text/plain": [
       "(11795, 41163)"
      ]
     },
     "execution_count": 195,
     "metadata": {},
     "output_type": "execute_result"
    }
   ],
   "source": [
    "# Oversampling\n",
    "\n",
    "X_resampled2, Y_resampled2 = SMOTE().fit_sample(X_train_2, Y_train_2)\n",
    "X_resampled2.shape"
   ]
  },
  {
   "cell_type": "code",
   "execution_count": 196,
   "metadata": {},
   "outputs": [
    {
     "name": "stdout",
     "output_type": "stream",
     "text": [
      "[(1, 2359), (2, 2359), (3, 2359), (4, 2359), (5, 2359)]\n"
     ]
    }
   ],
   "source": [
    "from collections import Counter\n",
    "print(sorted(Counter(Y_resampled2).items()))"
   ]
  },
  {
   "cell_type": "code",
   "execution_count": 197,
   "metadata": {},
   "outputs": [
    {
     "data": {
      "text/plain": [
       "MultinomialNB(alpha=3, class_prior=None, fit_prior=True)"
      ]
     },
     "execution_count": 197,
     "metadata": {},
     "output_type": "execute_result"
    }
   ],
   "source": [
    "nb_model.fit(X_resampled2, Y_resampled2)"
   ]
  },
  {
   "cell_type": "code",
   "execution_count": 198,
   "metadata": {
    "collapsed": true
   },
   "outputs": [],
   "source": [
    "predictionEx2 = nb_model.predict(X_test_2)"
   ]
  },
  {
   "cell_type": "code",
   "execution_count": 268,
   "metadata": {},
   "outputs": [
    {
     "name": "stdout",
     "output_type": "stream",
     "text": [
      "[[135   8   5  16   5]\n",
      " [ 25   5  12  26   2]\n",
      " [ 16   6  26 151  24]\n",
      " [ 22   3  18 376 106]\n",
      " [ 80   5   6 232 290]]\n",
      "\n",
      "\n",
      "             precision    recall  f1-score   support\n",
      "\n",
      "          1       0.49      0.80      0.60       169\n",
      "          2       0.19      0.07      0.10        70\n",
      "          3       0.39      0.12      0.18       223\n",
      "          4       0.47      0.72      0.57       525\n",
      "          5       0.68      0.47      0.56       613\n",
      "\n",
      "avg / total       0.53      0.52      0.49      1600\n",
      "\n"
     ]
    }
   ],
   "source": [
    "from sklearn.metrics import confusion_matrix, classification_report\n",
    "\n",
    "confusionMatrix3 = confusion_matrix(Y_test_2, predictionEx2)\n",
    "print(confusionMatrix3)\n",
    "print('\\n')\n",
    "print(classification_report(Y_test_2, predictionEx2))\n",
    "\n",
    "tpArrayEx3, fpArrayEx3 = CalCorrectClassifiedForEachClass(confusionMatrix3)"
   ]
  },
  {
   "cell_type": "code",
   "execution_count": 269,
   "metadata": {},
   "outputs": [
    {
     "name": "stdout",
     "output_type": "stream",
     "text": [
      "0.52\n"
     ]
    }
   ],
   "source": [
    "from sklearn.metrics import accuracy_score\n",
    "\n",
    "print(accuracy_score(Y_test_2, predictionEx2))"
   ]
  },
  {
   "cell_type": "code",
   "execution_count": 271,
   "metadata": {},
   "outputs": [
    {
     "data": {
      "image/png": "[encoded data removed]",
      "text/plain": [
       "<matplotlib.figure.Figure at 0x187ade057b8>"
      ]
     },
     "metadata": {},
     "output_type": "display_data"
    }
   ],
   "source": [
    "tp3, fp3 = CalCorrectClassified(confusionMatrix3)\n",
    "(tp3,fp3)\n",
    "\n",
    "N = 5\n",
    "menMeans = tpArrayEx3\n",
    "womenMeans = fpArrayEx3\n",
    "\n",
    "ind = np.arange(N)    # the x locations for the groups\n",
    "width = 0.5       # the width of the bars: can also be len(x) sequence\n",
    "\n",
    "p1 = plt.bar(ind, menMeans, width)\n",
    "p2 = plt.bar(ind, womenMeans, width, bottom=menMeans)\n",
    "\n",
    "plt.ylabel('Count')\n",
    "plt.xlabel('Rating')\n",
    "plt.title('Rating counts for each class')\n",
    "plt.xticks(ind, ('1', '2', '3', '4', '5'))\n",
    "# plt.yticks(np.arange(0, 81, 10))\n",
    "plt.legend((p1[0], p2[0]), ('Correct', 'Incorrect'))\n",
    "\n",
    "plt.show()"
   ]
  },
  {
   "cell_type": "markdown",
   "metadata": {},
   "source": [
    "### Experiment 4"
   ]
  },
  {
   "cell_type": "markdown",
   "metadata": {},
   "source": [
    "In this experiment, we experiment on different processing techniques for calculating the values of count vectorizer to be fed as a data for train and test. For this experiment, we are using the text process which removes the punctuation and the stop words from the review. The words obtained from the review are then POS tagged.\n",
    "\n",
    "A POS tagger tags the words based on their part of speech. Here we take only the words which are the adjective, verb and adverb in the review to find their influence. This is then stemmed for the reduction of the word to its basic form. We calculate our count Vector based on this analyzer and then split it for training and testing in 80% and 20% respectively. We also oversample the data for better results as discuss above. Then, we train and test the model for the predictions. Finally, the accuracy and the evaluation matrix are obtained.\n"
   ]
  },
  {
   "cell_type": "code",
   "execution_count": 54,
   "metadata": {},
   "outputs": [
    {
     "name": "stdout",
     "output_type": "stream",
     "text": [
      "(7996, 13602) 253242\n"
     ]
    }
   ],
   "source": [
    "vectorizer = CountVectorizer(analyzer=text_process3).fit(Xdata)\n",
    "len(vectorizer.vocabulary_)\n",
    "Xdata3 = vectorizer.transform(Xdata)\n",
    "print(Xdata3.shape, Xdata3.nnz)"
   ]
  },
  {
   "cell_type": "code",
   "execution_count": 273,
   "metadata": {
    "collapsed": true
   },
   "outputs": [],
   "source": [
    "from sklearn.model_selection import train_test_split\n",
    "\n",
    "X_train_3, X_test_3, Y_train_3, Y_test_3 = train_test_split(Xdata3, Ydata, test_size=0.2, random_state=101)"
   ]
  },
  {
   "cell_type": "code",
   "execution_count": 274,
   "metadata": {},
   "outputs": [
    {
     "data": {
      "text/plain": [
       "(6396, 13602)"
      ]
     },
     "execution_count": 274,
     "metadata": {},
     "output_type": "execute_result"
    }
   ],
   "source": [
    "X_train_3.shape"
   ]
  },
  {
   "cell_type": "code",
   "execution_count": 275,
   "metadata": {},
   "outputs": [
    {
     "name": "stdout",
     "output_type": "stream",
     "text": [
      "[(1, 715), (2, 356), (3, 812), (4, 2154), (5, 2359)]\n"
     ]
    }
   ],
   "source": [
    "from collections import Counter\n",
    "print(sorted(Counter(Y_train_3).items()))"
   ]
  },
  {
   "cell_type": "code",
   "execution_count": 276,
   "metadata": {},
   "outputs": [
    {
     "data": {
      "text/plain": [
       "(11795, 13602)"
      ]
     },
     "execution_count": 276,
     "metadata": {},
     "output_type": "execute_result"
    }
   ],
   "source": [
    "# Oversampling\n",
    "\n",
    "X_resampled3, Y_resampled3 = SMOTE().fit_sample(X_train_3, Y_train_3)\n",
    "X_resampled3.shape"
   ]
  },
  {
   "cell_type": "code",
   "execution_count": 277,
   "metadata": {},
   "outputs": [
    {
     "name": "stdout",
     "output_type": "stream",
     "text": [
      "[(1, 2359), (2, 2359), (3, 2359), (4, 2359), (5, 2359)]\n"
     ]
    }
   ],
   "source": [
    "from collections import Counter\n",
    "print(sorted(Counter(Y_resampled3).items()))"
   ]
  },
  {
   "cell_type": "code",
   "execution_count": 278,
   "metadata": {
    "collapsed": true
   },
   "outputs": [],
   "source": [
    "nb_model.fit(X_resampled3, Y_resampled3)\n",
    "predictionEx3 = nb_model.predict(X_test_3)"
   ]
  },
  {
   "cell_type": "code",
   "execution_count": 279,
   "metadata": {},
   "outputs": [
    {
     "name": "stdout",
     "output_type": "stream",
     "text": [
      "[[123  16   3  17  10]\n",
      " [ 21   3  16  18  12]\n",
      " [ 10  14  27 148  24]\n",
      " [ 20   5  26 326 148]\n",
      " [ 52   6  10 213 332]]\n",
      "\n",
      "\n",
      "             precision    recall  f1-score   support\n",
      "\n",
      "          1       0.54      0.73      0.62       169\n",
      "          2       0.07      0.04      0.05        70\n",
      "          3       0.33      0.12      0.18       223\n",
      "          4       0.45      0.62      0.52       525\n",
      "          5       0.63      0.54      0.58       613\n",
      "\n",
      "avg / total       0.50      0.51      0.49      1600\n",
      "\n"
     ]
    }
   ],
   "source": [
    "from sklearn.metrics import confusion_matrix, classification_report\n",
    "\n",
    "confusionMatrix4 = confusion_matrix(Y_test_3, predictionEx3)\n",
    "print(confusionMatrix4)\n",
    "print('\\n')\n",
    "print(classification_report(Y_test_3, predictionEx3))\n",
    "\n",
    "tpArrayEx4, fpArrayEx4 = CalCorrectClassifiedForEachClass(confusionMatrix4)"
   ]
  },
  {
   "cell_type": "code",
   "execution_count": 280,
   "metadata": {},
   "outputs": [
    {
     "name": "stdout",
     "output_type": "stream",
     "text": [
      "0.506875\n"
     ]
    }
   ],
   "source": [
    "from sklearn.metrics import accuracy_score\n",
    "\n",
    "print(accuracy_score(Y_test_3, predictionEx3))"
   ]
  },
  {
   "cell_type": "code",
   "execution_count": 281,
   "metadata": {},
   "outputs": [
    {
     "data": {
      "image/png": "[encoded data removed]",
      "text/plain": [
       "<matplotlib.figure.Figure at 0x187a23f1518>"
      ]
     },
     "metadata": {},
     "output_type": "display_data"
    }
   ],
   "source": [
    "tp4, fp4 = CalCorrectClassified(confusionMatrix4)\n",
    "(tp4,fp4)\n",
    "\n",
    "N = 5\n",
    "menMeans = tpArrayEx4\n",
    "womenMeans = fpArrayEx4\n",
    "\n",
    "ind = np.arange(N)    # the x locations for the groups\n",
    "width = 0.5       # the width of the bars: can also be len(x) sequence\n",
    "\n",
    "p1 = plt.bar(ind, menMeans, width)\n",
    "p2 = plt.bar(ind, womenMeans, width, bottom=menMeans)\n",
    "\n",
    "plt.ylabel('Count')\n",
    "plt.xlabel('Rating')\n",
    "plt.title('Rating counts for each class')\n",
    "plt.xticks(ind, ('1', '2', '3', '4', '5'))\n",
    "# plt.yticks(np.arange(0, 81, 10))\n",
    "plt.legend((p1[0], p2[0]), ('Correct', 'Incorrect'))\n",
    "\n",
    "plt.show()"
   ]
  },
  {
   "cell_type": "markdown",
   "metadata": {},
   "source": [
    "### Graphs"
   ]
  },
  {
   "cell_type": "code",
   "execution_count": 283,
   "metadata": {
    "collapsed": true
   },
   "outputs": [],
   "source": [
    "# Function for calculation of correctly classified and incorrectly classified values\n",
    "def CalCorrectClassified(theArray):\n",
    "    tp = 0;\n",
    "    fp = 0;\n",
    "    for i in range (theArray.shape[0]):\n",
    "        for j in range (theArray.shape[1]):\n",
    "            if (i == j):\n",
    "                tp = tp + theArray[i][j]\n",
    "            else:\n",
    "                fp = fp + theArray[i][j]\n",
    "\n",
    "    return tp, fp"
   ]
  },
  {
   "cell_type": "code",
   "execution_count": 284,
   "metadata": {
    "collapsed": true
   },
   "outputs": [],
   "source": [
    "# Function for calculation of correctly classified and incorrectly classified values for each class\n",
    "def CalCorrectClassifiedForEachClass(theArray):\n",
    "    tpArray = []\n",
    "    fpArray = []\n",
    "    for i in range (theArray.shape[0]):\n",
    "        tp = 0;\n",
    "        fp = 0;\n",
    "        for j in range (theArray.shape[1]):\n",
    "            if (i == j):\n",
    "                tp = tp + theArray[i][j]\n",
    "            else:\n",
    "                fp = fp + theArray[i][j]\n",
    "        \n",
    "        tpArray.append(tp)\n",
    "        fpArray.append(fp)\n",
    "\n",
    "    return tpArray, fpArray"
   ]
  },
  {
   "cell_type": "code",
   "execution_count": 285,
   "metadata": {},
   "outputs": [
    {
     "data": {
      "image/png": "[encoded data removed]",
      "text/plain": [
       "<matplotlib.figure.Figure at 0x187a3d9ba58>"
      ]
     },
     "metadata": {},
     "output_type": "display_data"
    }
   ],
   "source": [
    "NumberOfExperiment = 3\n",
    "correct = (tp2, tp3, tp4)\n",
    "incorrect = (fp2, fp3, fp4)\n",
    "\n",
    "ind = np.arange(NumberOfExperiment)    # the x locations for the groups\n",
    "width = 0.5       # the width of the bars: can also be len(x) sequence\n",
    "\n",
    "p1 = plt.bar(ind, correct, width)\n",
    "p2 = plt.bar(ind, incorrect, width, bottom=correct)\n",
    "\n",
    "plt.ylabel('Count')\n",
    "plt.xlabel('Experiments')\n",
    "plt.title('Correct and Incorrect Classification')\n",
    "plt.xticks(ind, ('2', '3', '4'))\n",
    "plt.yticks(np.arange(0, 2750, 250))\n",
    "plt.legend((p1[0], p2[0]), ('Correct', 'Incorrect'))\n",
    "\n",
    "plt.show()"
   ]
  },
  {
   "cell_type": "code",
   "execution_count": 288,
   "metadata": {},
   "outputs": [
    {
     "data": {
      "image/png": "[encoded data removed]",
      "text/plain": [
       "<matplotlib.figure.Figure at 0x187a4a2c080>"
      ]
     },
     "metadata": {},
     "output_type": "display_data"
    }
   ],
   "source": [
    "NumberOfFinalExperiment = 5\n",
    "correct = (tp2, tp3, tp4, 840, 851)\n",
    "incorrect = (fp2, fp3, fp4, 760, 749)\n",
    "\n",
    "ind = np.arange(NumberOfFinalExperiment)    # the x locations for the groups\n",
    "width = 0.5       # the width of the bars: can also be len(x) sequence\n",
    "\n",
    "p1 = plt.bar(ind, correct, width)\n",
    "p2 = plt.bar(ind, incorrect, width, bottom=correct)\n",
    "\n",
    "plt.ylabel('Count')\n",
    "plt.xlabel('Experiments')\n",
    "plt.title('Correct and Incorrect Classification')\n",
    "plt.xticks(ind, ('NB_1', 'NB_2', 'NB_3', 'LOG_1', 'LOG_2'))\n",
    "plt.yticks(np.arange(0, 2750, 550))\n",
    "plt.legend((p1[0], p2[0]), ('Correct', 'Incorrect'))\n",
    "\n",
    "plt.show()"
   ]
  }
 ],
 "metadata": {
  "kernelspec": {
   "display_name": "Python 3",
   "language": "python",
   "name": "python3"
  },
  "language_info": {
   "codemirror_mode": {
    "name": "ipython",
    "version": 3
   },
   "file_extension": ".py",
   "mimetype": "text/x-python",
   "name": "python",
   "nbconvert_exporter": "python",
   "pygments_lexer": "ipython3",
   "version": "3.6.3"
  }
 },
 "nbformat": 4,
 "nbformat_minor": 2
}
